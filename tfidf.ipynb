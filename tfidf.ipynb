{
 "metadata": {
  "language_info": {
   "codemirror_mode": {
    "name": "ipython",
    "version": 3
   },
   "file_extension": ".py",
   "mimetype": "text/x-python",
   "name": "python",
   "nbconvert_exporter": "python",
   "pygments_lexer": "ipython3",
   "version": "3.9.2"
  },
  "orig_nbformat": 2,
  "kernelspec": {
   "name": "python392jvsc74a57bd0ec49377734e452f7232cd190f0d9cf7bf2c279fdb44b8c7a9fbd8a2977087685",
   "display_name": "Python 3.9.2 64-bit ('flair': conda)"
  },
  "metadata": {
   "interpreter": {
    "hash": "ec49377734e452f7232cd190f0d9cf7bf2c279fdb44b8c7a9fbd8a2977087685"
   }
  }
 },
 "nbformat": 4,
 "nbformat_minor": 2,
 "cells": [
  {
   "cell_type": "code",
   "execution_count": 6,
   "metadata": {},
   "outputs": [],
   "source": [
    "import pandas as pd\n",
    "import flair\n",
    "from bpemb import BPEmb\n",
    "from sklearn.feature_extraction.text import TfidfVectorizer\n",
    "from scipy.spatial.distance import cdist\n",
    "import regex as re"
   ]
  },
  {
   "cell_type": "code",
   "execution_count": 7,
   "metadata": {},
   "outputs": [],
   "source": [
    "full_files_assignment = [f\"data/assignment/{x}/assignment.txt\" for x in os.listdir('data/assignment')]\n",
    "full_files_data_assignment = [open(x).read() for x in full_files_assignment if not 'annot' in x and not '.DS' in x]\n",
    "\n",
    "resume = [f\"data/resume_clean/{x}\" for x in os.listdir('data/resume_clean')]\n",
    "resume_data = [open(x).read() for x in resume]"
   ]
  },
  {
   "cell_type": "code",
   "execution_count": 8,
   "metadata": {},
   "outputs": [],
   "source": [
    "multi_space = re.compile(\"[_ \\t]+\")\n",
    "non_ascii = re.compile(\"[^\\x00-\\x7FåäöÅÄÖ\\s\\n\\p{Punct}]+\")\n",
    "punct = re.compile('([\\p{Punct}\\n])+')"
   ]
  },
  {
   "cell_type": "code",
   "execution_count": 13,
   "metadata": {},
   "outputs": [],
   "source": [
    "def clean(text):\n",
    "    t = non_ascii.sub('', text)\n",
    "    t = punct.sub(' \\g<1> ', t)\n",
    "    t = multi_space.sub(' ', t)\n",
    "    t = t.replace('\\n', '.')\n",
    "    t = t.lower()\n",
    "    return t"
   ]
  },
  {
   "cell_type": "code",
   "execution_count": 14,
   "metadata": {},
   "outputs": [],
   "source": [
    "clean_resumes = [clean(x) for x in resume_data]\n",
    "clean_assignments = [clean(x) for x in full_files_data_assignment]"
   ]
  },
  {
   "cell_type": "code",
   "execution_count": 21,
   "metadata": {},
   "outputs": [
    {
     "output_type": "execute_result",
     "data": {
      "text/plain": [
       "TfidfVectorizer(max_df=0.5, min_df=10, stop_words='english')"
      ]
     },
     "metadata": {},
     "execution_count": 21
    }
   ],
   "source": [
    "vectorizer = TfidfVectorizer(stop_words='english', max_df=0.50, min_df=10)\n",
    "vectorizer.fit(clean_assignments+clean_resumes)"
   ]
  },
  {
   "cell_type": "code",
   "execution_count": 22,
   "metadata": {},
   "outputs": [],
   "source": [
    "x_resume = vectorizer.transform(clean_resumes)\n",
    "x_assignment = vectorizer.transform(clean_assignments)"
   ]
  },
  {
   "cell_type": "code",
   "execution_count": 43,
   "metadata": {},
   "outputs": [
    {
     "output_type": "execute_result",
     "data": {
      "text/plain": [
       "array([[0.91253857, 0.81692922, 0.78064722, 0.78243857, 0.75278977,\n",
       "        0.74745432, 0.94397702, 0.60061513, 0.79309386, 0.883031  ,\n",
       "        0.78878295, 0.86744509, 0.79679015, 0.91259097, 0.84386954,\n",
       "        0.72058578, 0.83538597, 0.92048386, 0.80897347, 0.85940277,\n",
       "        0.79182331, 0.86460573, 0.71856869, 0.86911413, 0.79415437,\n",
       "        0.70816466, 0.9241859 , 0.86855011, 0.93828158, 0.83011643,\n",
       "        0.83466988, 0.97328222, 0.95852379, 0.92741138, 0.95310396,\n",
       "        0.94430003, 0.92529487, 0.85722348, 0.80082875, 0.9009491 ,\n",
       "        0.83391757, 0.746303  , 0.82201206, 0.89253107, 0.68976253,\n",
       "        0.75467125, 0.8875436 , 0.9655355 , 0.96516792, 0.84226515,\n",
       "        0.77252719, 0.76388872, 0.87218436, 0.780797  , 0.8015489 ,\n",
       "        0.73939492, 0.81459954],\n",
       "       [0.97823218, 0.82593314, 0.8175453 , 0.94118334, 0.91398597,\n",
       "        0.93542266, 0.84232742, 0.93644611, 0.94668739, 0.89949417,\n",
       "        0.98059278, 0.95404016, 0.79321939, 0.86410081, 0.80423656,\n",
       "        0.82714101, 0.93740405, 0.95366986, 0.87252588, 0.98938274,\n",
       "        0.95680245, 0.87417939, 0.93118099, 1.        , 0.99164225,\n",
       "        0.82675199, 1.        , 1.        , 1.        , 0.90209963,\n",
       "        0.82327205, 0.87340158, 0.87413135, 1.        , 1.        ,\n",
       "        1.        , 0.92517752, 1.        , 0.90547286, 0.92626376,\n",
       "        0.92303028, 0.91456047, 0.73072458, 0.97982211, 0.97183496,\n",
       "        0.89636532, 0.89491055, 0.95940098, 1.        , 0.90357855,\n",
       "        0.66673884, 0.97567504, 0.93627574, 0.89262684, 0.89949974,\n",
       "        0.88850556, 0.93978042],\n",
       "       [0.94771321, 0.89214234, 0.89971613, 0.75468246, 0.91140391,\n",
       "        0.79290421, 0.91945579, 0.86609125, 0.66205579, 0.93217678,\n",
       "        0.79861676, 0.96676935, 0.88486048, 0.75321495, 0.76833216,\n",
       "        0.85520894, 0.69340505, 0.83861913, 0.74184125, 0.79929068,\n",
       "        0.68996509, 0.93325773, 0.91734412, 0.56030492, 0.71071235,\n",
       "        0.83466074, 0.74316661, 0.69221543, 1.        , 0.94500844,\n",
       "        0.77135621, 0.79995073, 0.91790874, 1.        , 0.94052437,\n",
       "        0.85325703, 0.93217548, 0.83410814, 0.68413135, 0.91139332,\n",
       "        0.80486721, 0.91387537, 0.71125791, 0.6629916 , 0.62212414,\n",
       "        0.69213359, 0.97420255, 0.85839345, 1.        , 0.91448277,\n",
       "        0.87638903, 0.9221021 , 0.65100809, 0.90892349, 0.88341933,\n",
       "        0.96370603, 0.85612688]])"
      ]
     },
     "metadata": {},
     "execution_count": 43
    }
   ],
   "source": [
    "dists = cdist(x_resume.toarray(), x_assignment.toarray(), metric='cosine')\n",
    "dists"
   ]
  },
  {
   "cell_type": "code",
   "execution_count": 50,
   "metadata": {},
   "outputs": [
    {
     "output_type": "execute_result",
     "data": {
      "text/plain": [
       "array([ 7, 50, 23])"
      ]
     },
     "metadata": {},
     "execution_count": 50
    }
   ],
   "source": [
    "dists.argmin(axis=-1)"
   ]
  },
  {
   "cell_type": "code",
   "execution_count": 52,
   "metadata": {},
   "outputs": [
    {
     "output_type": "stream",
     "name": "stdout",
     "text": [
      "0.60061513075041\n0.6667388359427548\n0.5603049151105187\n"
     ]
    }
   ],
   "source": [
    "print(dists[0][7])\n",
    "print(dists[1][50])\n",
    "print(dists[2][23])"
   ]
  },
  {
   "cell_type": "code",
   "execution_count": 48,
   "metadata": {},
   "outputs": [
    {
     "output_type": "stream",
     "name": "stdout",
     "text": [
      "Embedded SW Engineer, Reference 23189\nApply here\nAssignment Description and Requirements\nRequirements:\nWe believe you are a passionate embedded software engineer with at least a few years of relevant work experience. You have a university degree in Software Engineering or equivalent.\nYou are known as a team player with an open mindset.\nYou have knowledge of and relevant experience with:\n- Embedded systems\n- Linux\n- C/C++\n- Script languages\n- Hardware near debugging (schematics, logic analyzer, board-bringup).\n- Linux kernel is meritorious\n- Git, Gerrit, Jenkins\n- Jira, Confluence\n- Agile software development process\n- QNX is meritorious\n\nYour Role:\nAs an Embedded Software Engineer, you will be a member of a team responsible for the low-level modules within our platform organisation developing the infotainment head unit system.\nThe system is an in-vehicle Linux based system running native Android or virtualized inside QNX hypervisor.\nYou will work with low-level software modules, board bring up, develop drivers and be engaged in HW near debugging.\nYou will be part of a team with experienced engineers who enjoy sharing theirs knowledge and solving problems together.\nYou will have close collaboration with SoC suppliers to integrate the latest and greatest into our product.\n\nEnglish only is sufficient language skill for this assignment\n========\nSW Developer Java/C++, Reference 23470\nApply here\nAssignment Description and Requirements\nWe are looking for you who\n• Have a Master’s degree in a relevant discipline or the equivalent working experience\n• Have experience in software engineering\n• Have good skills in programming with Java, C++ and Python\n• Have knowledge about Jenkins and Git and Docker\n• Like to work with latest technologies close to hardware\n• Have understanding of agile development\n• Are fluent in Swedish and English\n• Like work in an international business environment\n• Are a proactive and reliable team player with good communications skills\n• Have experience from machine learning and cyber security is a plus\nThe position entails working with classified information.\n\nOther relevant information\nPlease apply stating your current citizenship(s).\n\nAre you available and the assignment seems interesting, click the \"Apply now\". Before you respond to an assignment, make sure that your skills profile (CV) is updated, correct and clearly describing your suitability for the job.\n\n\n\n========\nCable harness designer, Reference 23416\nApply here\nAssignment Description and Requirements\nOur customer in Mälardalen is looking for a cable harness engineer for bus chassis installation.\n\nDemands:\n>5 years of experience of cable harness design and SABER or similar tools\nKnowledge of OAS and the customers product development process is highly meriting\n\nPersonal skills:\ninitiative, verbal, ability to break up own work and plan it, teaching skills since the group has four new employees\n\nEnglish only is sufficient language skill for this assignment\nOther relevant information\nAre you available and the assignment seems interesting, click the \"Apply now\". Before you respond to an assignment, make sure that your skills profile (CV) is updated, correct and clearly describing your suitability for the job\n\n========\n"
     ]
    }
   ],
   "source": [
    "for x in dists.argmin(axis=1):\n",
    "    print(full_files_data_assignment[x])\n",
    "    print(\"========\")"
   ]
  },
  {
   "cell_type": "code",
   "execution_count": 45,
   "metadata": {},
   "outputs": [
    {
     "output_type": "stream",
     "name": "stdout",
     "text": [
      "['data/resume_clean/2.txt', 'data/resume_clean/3.txt', 'data/resume_clean/1.txt']\n"
     ]
    }
   ],
   "source": [
    "print(resume)"
   ]
  },
  {
   "cell_type": "code",
   "execution_count": 34,
   "metadata": {},
   "outputs": [],
   "source": [
    "import numpy as np"
   ]
  },
  {
   "cell_type": "code",
   "execution_count": 38,
   "metadata": {},
   "outputs": [
    {
     "output_type": "execute_result",
     "data": {
      "text/plain": [
       "scipy.sparse.csr.csr_matrix"
      ]
     },
     "metadata": {},
     "execution_count": 38
    }
   ],
   "source": [
    "type(x_resume)"
   ]
  },
  {
   "cell_type": "code",
   "execution_count": 98,
   "metadata": {},
   "outputs": [
    {
     "output_type": "execute_result",
     "data": {
      "text/plain": [
       "       Category                                             Resume\n",
       "0  Data Science  Skills * Programming Languages: Python (pandas...\n",
       "1  Data Science  Education Details \\r\\nMay 2013 to May 2017 B.E...\n",
       "2  Data Science  Areas of Interest Deep Learning, Control Syste...\n",
       "3  Data Science  Skills â¢ R â¢ Python â¢ SAP HANA â¢ Table...\n",
       "4  Data Science  Education Details \\r\\n MCA   YMCAUST,  Faridab..."
      ],
      "text/html": "<div>\n<style scoped>\n    .dataframe tbody tr th:only-of-type {\n        vertical-align: middle;\n    }\n\n    .dataframe tbody tr th {\n        vertical-align: top;\n    }\n\n    .dataframe thead th {\n        text-align: right;\n    }\n</style>\n<table border=\"1\" class=\"dataframe\">\n  <thead>\n    <tr style=\"text-align: right;\">\n      <th></th>\n      <th>Category</th>\n      <th>Resume</th>\n    </tr>\n  </thead>\n  <tbody>\n    <tr>\n      <th>0</th>\n      <td>Data Science</td>\n      <td>Skills * Programming Languages: Python (pandas...</td>\n    </tr>\n    <tr>\n      <th>1</th>\n      <td>Data Science</td>\n      <td>Education Details \\r\\nMay 2013 to May 2017 B.E...</td>\n    </tr>\n    <tr>\n      <th>2</th>\n      <td>Data Science</td>\n      <td>Areas of Interest Deep Learning, Control Syste...</td>\n    </tr>\n    <tr>\n      <th>3</th>\n      <td>Data Science</td>\n      <td>Skills â¢ R â¢ Python â¢ SAP HANA â¢ Table...</td>\n    </tr>\n    <tr>\n      <th>4</th>\n      <td>Data Science</td>\n      <td>Education Details \\r\\n MCA   YMCAUST,  Faridab...</td>\n    </tr>\n  </tbody>\n</table>\n</div>"
     },
     "metadata": {},
     "execution_count": 98
    }
   ],
   "source": [
    "df = pd.read_csv('data/UpdatedResumeDataSet.csv')\n",
    "df.head()"
   ]
  },
  {
   "cell_type": "code",
   "execution_count": 99,
   "metadata": {},
   "outputs": [
    {
     "output_type": "execute_result",
     "data": {
      "text/plain": [
       "array(['Data Science', 'HR', 'Advocate', 'Arts', 'Web Designing',\n",
       "       'Mechanical Engineer', 'Sales', 'Health and fitness',\n",
       "       'Civil Engineer', 'Java Developer', 'Business Analyst',\n",
       "       'SAP Developer', 'Automation Testing', 'Electrical Engineering',\n",
       "       'Operations Manager', 'Python Developer', 'DevOps Engineer',\n",
       "       'Network Security Engineer', 'PMO', 'Database', 'Hadoop',\n",
       "       'ETL Developer', 'DotNet Developer', 'Blockchain', 'Testing'],\n",
       "      dtype=object)"
      ]
     },
     "metadata": {},
     "execution_count": 99
    }
   ],
   "source": [
    "df['Category'].unique()"
   ]
  },
  {
   "cell_type": "code",
   "execution_count": 100,
   "metadata": {},
   "outputs": [],
   "source": [
    "df['clean_resume'] = df['Resume'].apply(lambda x: clean(x))\n",
    "df = df.drop_duplicates()"
   ]
  },
  {
   "cell_type": "code",
   "execution_count": 101,
   "metadata": {},
   "outputs": [
    {
     "output_type": "execute_result",
     "data": {
      "text/plain": [
       "       Category                                             Resume  \\\n",
       "0  Data Science  Skills * Programming Languages: Python (pandas...   \n",
       "1  Data Science  Education Details \\r\\nMay 2013 to May 2017 B.E...   \n",
       "2  Data Science  Areas of Interest Deep Learning, Control Syste...   \n",
       "3  Data Science  Skills â¢ R â¢ Python â¢ SAP HANA â¢ Table...   \n",
       "4  Data Science  Education Details \\r\\n MCA   YMCAUST,  Faridab...   \n",
       "\n",
       "                                        clean_resume  \n",
       "0  skills * programming languages : python ( pand...  \n",
       "1  education details \\r . may 2013 to may 2017 b ...  \n",
       "2  areas of interest deep learning , control syst...  \n",
       "3  skills r python sap hana tableau sap hana sql ...  \n",
       "4  education details \\r . mca ymcaust , faridabad...  "
      ],
      "text/html": "<div>\n<style scoped>\n    .dataframe tbody tr th:only-of-type {\n        vertical-align: middle;\n    }\n\n    .dataframe tbody tr th {\n        vertical-align: top;\n    }\n\n    .dataframe thead th {\n        text-align: right;\n    }\n</style>\n<table border=\"1\" class=\"dataframe\">\n  <thead>\n    <tr style=\"text-align: right;\">\n      <th></th>\n      <th>Category</th>\n      <th>Resume</th>\n      <th>clean_resume</th>\n    </tr>\n  </thead>\n  <tbody>\n    <tr>\n      <th>0</th>\n      <td>Data Science</td>\n      <td>Skills * Programming Languages: Python (pandas...</td>\n      <td>skills * programming languages : python ( pand...</td>\n    </tr>\n    <tr>\n      <th>1</th>\n      <td>Data Science</td>\n      <td>Education Details \\r\\nMay 2013 to May 2017 B.E...</td>\n      <td>education details \\r . may 2013 to may 2017 b ...</td>\n    </tr>\n    <tr>\n      <th>2</th>\n      <td>Data Science</td>\n      <td>Areas of Interest Deep Learning, Control Syste...</td>\n      <td>areas of interest deep learning , control syst...</td>\n    </tr>\n    <tr>\n      <th>3</th>\n      <td>Data Science</td>\n      <td>Skills â¢ R â¢ Python â¢ SAP HANA â¢ Table...</td>\n      <td>skills r python sap hana tableau sap hana sql ...</td>\n    </tr>\n    <tr>\n      <th>4</th>\n      <td>Data Science</td>\n      <td>Education Details \\r\\n MCA   YMCAUST,  Faridab...</td>\n      <td>education details \\r . mca ymcaust , faridabad...</td>\n    </tr>\n  </tbody>\n</table>\n</div>"
     },
     "metadata": {},
     "execution_count": 101
    }
   ],
   "source": [
    "df.head()"
   ]
  },
  {
   "cell_type": "code",
   "execution_count": 102,
   "metadata": {},
   "outputs": [
    {
     "output_type": "execute_result",
     "data": {
      "text/plain": [
       "TfidfVectorizer(max_df=0.5, min_df=10, stop_words='english')"
      ]
     },
     "metadata": {},
     "execution_count": 102
    }
   ],
   "source": [
    "vectorizer = TfidfVectorizer(stop_words='english', max_df=0.50, min_df=10)\n",
    "vectorizer.fit(clean_assignments+df['clean_resume'].tolist())"
   ]
  },
  {
   "cell_type": "code",
   "execution_count": 103,
   "metadata": {},
   "outputs": [],
   "source": [
    "x_resume = vectorizer.transform(df['clean_resume'])\n",
    "x_assignment = vectorizer.transform(clean_assignments)"
   ]
  },
  {
   "cell_type": "code",
   "execution_count": 104,
   "metadata": {},
   "outputs": [],
   "source": [
    "dists = cdist(x_assignment.toarray(), x_resume.toarray(), metric='cosine')"
   ]
  },
  {
   "cell_type": "code",
   "execution_count": 105,
   "metadata": {},
   "outputs": [
    {
     "output_type": "execute_result",
     "data": {
      "text/plain": [
       "array([[0.93587529, 1.        , 0.96837396, ..., 0.97380711, 0.95561402,\n",
       "        0.97647996],\n",
       "       [0.91600525, 0.95404871, 0.89847006, ..., 0.92588916, 0.8193951 ,\n",
       "        0.9326045 ],\n",
       "       [0.92854102, 0.97358773, 0.9004353 , ..., 0.75503221, 0.94911954,\n",
       "        0.76656755],\n",
       "       ...,\n",
       "       [0.94203378, 0.98961109, 0.93910386, ..., 0.96256575, 0.9503871 ,\n",
       "        0.98497885],\n",
       "       [0.94126643, 0.95637787, 0.93777025, ..., 1.        , 0.96448887,\n",
       "        0.9636615 ],\n",
       "       [0.91978724, 0.98416443, 0.87631496, ..., 0.90501216, 0.86000759,\n",
       "        0.92576459]])"
      ]
     },
     "metadata": {},
     "execution_count": 105
    }
   ],
   "source": [
    "dists"
   ]
  },
  {
   "cell_type": "code",
   "execution_count": 106,
   "metadata": {},
   "outputs": [],
   "source": [
    "closest_dists = dists.argpartition(5, axis=1)[:,:5]"
   ]
  },
  {
   "cell_type": "code",
   "execution_count": 108,
   "metadata": {},
   "outputs": [
    {
     "output_type": "execute_result",
     "data": {
      "text/plain": [
       "array([ 96,  94,  97,  98, 159])"
      ]
     },
     "metadata": {},
     "execution_count": 108
    }
   ],
   "source": [
    "closest_dists[5]"
   ]
  },
  {
   "cell_type": "code",
   "execution_count": 110,
   "metadata": {},
   "outputs": [
    {
     "output_type": "execute_result",
     "data": {
      "text/plain": [
       "                   Category  \\\n",
       "483  Electrical Engineering   \n",
       "481  Electrical Engineering   \n",
       "484  Electrical Engineering   \n",
       "485  Electrical Engineering   \n",
       "892                 Testing   \n",
       "\n",
       "                                                Resume  \\\n",
       "483  â¢ Achievement oriented with people managemen...   \n",
       "481  Skills: 1) MC Office 2) AutoCAD 2016 3) Introd...   \n",
       "484  Education Details \\r\\nJuly 2016 to May 2019 BE...   \n",
       "485  Education Details \\r\\nJanuary 2012 to January ...   \n",
       "892  â¢ Good logical and analytical skills â¢ Pos...   \n",
       "\n",
       "                                          clean_resume  \n",
       "483   achievement oriented with people management s...  \n",
       "481  skills : 1 ) mc office 2 ) autocad 2016 3 ) in...  \n",
       "484  education details \\r . july 2016 to may 2019 b...  \n",
       "485  education details \\r . january 2012 to january...  \n",
       "892   good logical and analytical skills positive a...  "
      ],
      "text/html": "<div>\n<style scoped>\n    .dataframe tbody tr th:only-of-type {\n        vertical-align: middle;\n    }\n\n    .dataframe tbody tr th {\n        vertical-align: top;\n    }\n\n    .dataframe thead th {\n        text-align: right;\n    }\n</style>\n<table border=\"1\" class=\"dataframe\">\n  <thead>\n    <tr style=\"text-align: right;\">\n      <th></th>\n      <th>Category</th>\n      <th>Resume</th>\n      <th>clean_resume</th>\n    </tr>\n  </thead>\n  <tbody>\n    <tr>\n      <th>483</th>\n      <td>Electrical Engineering</td>\n      <td>â¢ Achievement oriented with people managemen...</td>\n      <td>achievement oriented with people management s...</td>\n    </tr>\n    <tr>\n      <th>481</th>\n      <td>Electrical Engineering</td>\n      <td>Skills: 1) MC Office 2) AutoCAD 2016 3) Introd...</td>\n      <td>skills : 1 ) mc office 2 ) autocad 2016 3 ) in...</td>\n    </tr>\n    <tr>\n      <th>484</th>\n      <td>Electrical Engineering</td>\n      <td>Education Details \\r\\nJuly 2016 to May 2019 BE...</td>\n      <td>education details \\r . july 2016 to may 2019 b...</td>\n    </tr>\n    <tr>\n      <th>485</th>\n      <td>Electrical Engineering</td>\n      <td>Education Details \\r\\nJanuary 2012 to January ...</td>\n      <td>education details \\r . january 2012 to january...</td>\n    </tr>\n    <tr>\n      <th>892</th>\n      <td>Testing</td>\n      <td>â¢ Good logical and analytical skills â¢ Pos...</td>\n      <td>good logical and analytical skills positive a...</td>\n    </tr>\n  </tbody>\n</table>\n</div>"
     },
     "metadata": {},
     "execution_count": 110
    }
   ],
   "source": [
    "df.iloc[[96,  94,  97,  98, 159]]"
   ]
  },
  {
   "cell_type": "code",
   "execution_count": 111,
   "metadata": {},
   "outputs": [
    {
     "output_type": "execute_result",
     "data": {
      "text/plain": [
       "'System design engineer: Electric & Electronic system powering management, Reference 22658\\nApply here\\nAssignment Description and Requirements\\nWe are looking for a Systems Engineer for Electric & Electronic system powering management.\\nThe Electronic Embedded System department is responsible for the overall electronic system used commonly in all machines. This requires the system to be modular, scalable, flexible, etc.\\nYour role in the project will be as Systems Engineer with focus on Electric system. You will together with the project team, investigate, develop and document the system functionality required to meet the needs for different implementations of EE system in VCE machines. The work will include finding solutions to secure that the EE powering management system supports regular 12V/24V system services, connectivity services, electromobility services and autonomous services\\nDrive the work from an operational and short-term perspective. Participate in specification implementation and verification loops to secure system aspects of the solution.\\nYou are expected to be customer-oriented, flexible, self-sufficient and have technical knowledge and big interest in many different areas within Electrical and Electronic systems. You have strong drive and good innovation and communication skills.\\n\\nTask:\\n• Define electrical system principles such as behaviors and electrical component properties\\n• Describe use cases together with users\\n• Develop concept proposals and evaluate them\\n• Identify and specify electrical component properties\\n\\nCompetence / Experience:\\n• BSc or MSc degree in Electrical/Electronic Engineering or equivalent\\n• Experience of working with electrical and/or electronic system in the automotive industry\\n• Good understanding of robust and reliable system/software engineering/design principles\\n• Proficient documentation skills\\n• Fluent in English and Swedish, both written and spoken\\n\\nEnglish only is sufficient language skill for this assignment\\nOther relevant information\\nAre you available and the assignment seems interesting, click the \"Apply now\". Before you respond to an assignment, make sure that your skills profile (CV) is updated, correct and clearly describing your suitability for the job.\\n'"
      ]
     },
     "metadata": {},
     "execution_count": 111
    }
   ],
   "source": [
    "full_files_data_assignment[5]"
   ]
  },
  {
   "cell_type": "code",
   "execution_count": 115,
   "metadata": {},
   "outputs": [],
   "source": [
    "from joblib import dump, load"
   ]
  },
  {
   "cell_type": "code",
   "execution_count": 116,
   "metadata": {},
   "outputs": [
    {
     "output_type": "execute_result",
     "data": {
      "text/plain": [
       "['tfidf_on_updated_resumes.joblib']"
      ]
     },
     "metadata": {},
     "execution_count": 116
    }
   ],
   "source": [
    "dump(vectorizer, \"tfidf_on_updated_resumes.joblib\")"
   ]
  },
  {
   "cell_type": "code",
   "execution_count": 120,
   "metadata": {},
   "outputs": [],
   "source": [
    "df.to_csv('clean_resume.csv')"
   ]
  },
  {
   "cell_type": "code",
   "execution_count": 134,
   "metadata": {},
   "outputs": [],
   "source": [
    "data = [(x.split('\\n')[0], '\\n'.join(x.split('\\n')[1:])) for x in full_files_data_assignment]\n",
    "df_assignemnts = pd.DataFrame(data, columns=['title', 'text'])\n",
    "df_assignemnts['clean_text'] = df_assignemnts['text'].apply(lambda x: clean(x))"
   ]
  },
  {
   "cell_type": "code",
   "execution_count": 135,
   "metadata": {},
   "outputs": [
    {
     "output_type": "execute_result",
     "data": {
      "text/plain": [
       "                                               title  \\\n",
       "0  AD System designer / System Architect - Automo...   \n",
       "1  AD/ADAS HIL Engineer - Automotive, Referens 21803   \n",
       "2  SW engineer with extensive Test Automation, In...   \n",
       "3                 SW Component Owner, Referens 21757   \n",
       "4  Function and system design for Autonomous Driv...   \n",
       "\n",
       "                                                text  \\\n",
       "0  Ansök här\\nUppdragsbeskrivning och krav\\nWe ar...   \n",
       "1  Ansök här\\nUppdragsbeskrivning och krav\\nWe ar...   \n",
       "2  Apply here\\nAssignment Description and Require...   \n",
       "3  Ansök här\\nUppdragsbeskrivning och krav\\nAs a ...   \n",
       "4  Ansök här\\nUppdragsbeskrivning och krav\\nWe ar...   \n",
       "\n",
       "                                          clean_text  \n",
       "0  ansök här . uppdragsbeskrivning och krav . we ...  \n",
       "1  ansök här . uppdragsbeskrivning och krav . we ...  \n",
       "2  apply here . assignment description and requir...  \n",
       "3  ansök här . uppdragsbeskrivning och krav . as ...  \n",
       "4  ansök här . uppdragsbeskrivning och krav . we ...  "
      ],
      "text/html": "<div>\n<style scoped>\n    .dataframe tbody tr th:only-of-type {\n        vertical-align: middle;\n    }\n\n    .dataframe tbody tr th {\n        vertical-align: top;\n    }\n\n    .dataframe thead th {\n        text-align: right;\n    }\n</style>\n<table border=\"1\" class=\"dataframe\">\n  <thead>\n    <tr style=\"text-align: right;\">\n      <th></th>\n      <th>title</th>\n      <th>text</th>\n      <th>clean_text</th>\n    </tr>\n  </thead>\n  <tbody>\n    <tr>\n      <th>0</th>\n      <td>AD System designer / System Architect - Automo...</td>\n      <td>Ansök här\\nUppdragsbeskrivning och krav\\nWe ar...</td>\n      <td>ansök här . uppdragsbeskrivning och krav . we ...</td>\n    </tr>\n    <tr>\n      <th>1</th>\n      <td>AD/ADAS HIL Engineer - Automotive, Referens 21803</td>\n      <td>Ansök här\\nUppdragsbeskrivning och krav\\nWe ar...</td>\n      <td>ansök här . uppdragsbeskrivning och krav . we ...</td>\n    </tr>\n    <tr>\n      <th>2</th>\n      <td>SW engineer with extensive Test Automation, In...</td>\n      <td>Apply here\\nAssignment Description and Require...</td>\n      <td>apply here . assignment description and requir...</td>\n    </tr>\n    <tr>\n      <th>3</th>\n      <td>SW Component Owner, Referens 21757</td>\n      <td>Ansök här\\nUppdragsbeskrivning och krav\\nAs a ...</td>\n      <td>ansök här . uppdragsbeskrivning och krav . as ...</td>\n    </tr>\n    <tr>\n      <th>4</th>\n      <td>Function and system design for Autonomous Driv...</td>\n      <td>Ansök här\\nUppdragsbeskrivning och krav\\nWe ar...</td>\n      <td>ansök här . uppdragsbeskrivning och krav . we ...</td>\n    </tr>\n  </tbody>\n</table>\n</div>"
     },
     "metadata": {},
     "execution_count": 135
    }
   ],
   "source": [
    "df_assignemnts.head()"
   ]
  },
  {
   "cell_type": "code",
   "execution_count": 136,
   "metadata": {},
   "outputs": [],
   "source": [
    "df_assignemnts.to_csv('clean_assignments.csv')"
   ]
  },
  {
   "cell_type": "code",
   "execution_count": null,
   "metadata": {},
   "outputs": [],
   "source": []
  }
 ]
}