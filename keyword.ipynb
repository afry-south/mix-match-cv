{
 "metadata": {
  "language_info": {
   "codemirror_mode": {
    "name": "ipython",
    "version": 3
   },
   "file_extension": ".py",
   "mimetype": "text/x-python",
   "name": "python",
   "nbconvert_exporter": "python",
   "pygments_lexer": "ipython3",
   "version": "3.9.2"
  },
  "orig_nbformat": 2,
  "kernelspec": {
   "name": "python392jvsc74a57bd0ec49377734e452f7232cd190f0d9cf7bf2c279fdb44b8c7a9fbd8a2977087685",
   "display_name": "Python 3.9.2 64-bit ('flair': conda)"
  },
  "metadata": {
   "interpreter": {
    "hash": "ec49377734e452f7232cd190f0d9cf7bf2c279fdb44b8c7a9fbd8a2977087685"
   }
  }
 },
 "nbformat": 4,
 "nbformat_minor": 2,
 "cells": [
  {
   "cell_type": "code",
   "execution_count": 16,
   "metadata": {},
   "outputs": [],
   "source": [
    "import pandas as pd\n",
    "import flair\n",
    "from bpemb import BPEmb\n",
    "from sklearn.feature_extraction.text import TfidfVectorizer\n",
    "from scipy.spatial.distance import cdist\n",
    "from sklearn.decomposition import TruncatedSVD\n",
    "import regex as re\n",
    "from flair.data import Sentence\n",
    "from flair.models import SequenceTagger\n",
    "from flair.data import Corpus\n",
    "from flair.datasets import ColumnCorpus\n",
    "from flair.embeddings import TokenEmbeddings, WordEmbeddings, StackedEmbeddings, BytePairEmbeddings\n",
    "#import spacy"
   ]
  },
  {
   "cell_type": "code",
   "execution_count": 2,
   "metadata": {},
   "outputs": [],
   "source": [
    "full_files_assignment = [f\"data/assignment/{x}/assignment.txt\" for x in os.listdir('data/assignment')]\n",
    "full_files_data_assignment = [open(x).read() for x in full_files_assignment if not 'annot' in x and not '.DS' in x]\n",
    "all_text = '\\n'.join(full_files_data_assignment) # split into test/train"
   ]
  },
  {
   "cell_type": "code",
   "execution_count": 3,
   "metadata": {},
   "outputs": [],
   "source": [
    "multi_space = re.compile(\"[_ \\t]+\")\n",
    "non_ascii = re.compile(\"[^\\x00-\\x7FåäöÅÄÖ\\s\\n\\p{Punct}]+\")\n",
    "punct = re.compile('([\\p{Punct}\\n])+')\n",
    "#splitter = re.compile(\"[\\n\\.]\")\n",
    "#t = all_text.replace('/', ' ')\n",
    "t = non_ascii.sub('', all_text)\n",
    "t = punct.sub(' \\g<1> ', t)\n",
    "t = multi_space.sub(' ', t)\n",
    "t = t.replace('\\n', '.')\n",
    "t = t.lower()"
   ]
  },
  {
   "cell_type": "code",
   "execution_count": 4,
   "metadata": {},
   "outputs": [
    {
     "output_type": "execute_result",
     "data": {
      "text/plain": [
       "'ad system designer / system architect - automotive , referens 20922 . ansök här . uppdragsbeskrivning och krav . we are now looking for a system designer / system architect to our clients autonomous drive and active safety function department . you have documented experience of system design within '"
      ]
     },
     "metadata": {},
     "execution_count": 4
    }
   ],
   "source": [
    "t[:300]"
   ]
  },
  {
   "cell_type": "code",
   "execution_count": 5,
   "metadata": {},
   "outputs": [],
   "source": [
    "keywords = {'wireshark', 'cyber', 'docker', 'kanban', 'latest technologies', 'teaching skills', 'jenkins', 'sae j2847', 'system design', 'android', 'ccc', 'measurements', 'thermal conditioning', 'product development process', 'sales', 'verification tests', 'plc', 'test automation', 'private equity', 'data handling', 'maven', 'in-vehicle software', 'project management', 'validate', 'autonomous driver', 'insurances', 'drug', 'problem solver', 'infotainment', 'sensor fusion', 'ats', 'documentation', 'integration transformation', 'test planning', 'wallet-sizing analysis', 'software requirement', 'propulsion', 'test plans', 'canalyzer', 'nvidia', 'research and development', 'team efficiency', 'modems', 'automated test', 'matlab simulink', 'spice', 'lead', 'canoe', 'stk', 'control', 'product owner', 'lin', 'signal processing', 'insurance', 'frontend', 'customer', 'mil', 'backend', 'github', 'database', 'engineering tests', 'web services', 'automotive standards', 'valuation gap', 'university degree', 'software', 'cabel harness', 'application maintenance', 'sw test', 'collaborative', 'engineering', 'pcb and manufacturing', 'documenting processes', 'planning', 'safety requirement', 'coordinate', 'microprocessor system', 'interfaces', 'javascript', 'communication skills', 'user intent algorithms', 'target setting', 'rtos', 'hil', 'devops', 'digital design', 'manufacturing', 'electrical engineering', 'fund', 'sensors', 'soc', 'front-end', '5+', 'kola', 'network', 'gerrit', 'financial', 'signals', 'recruitment', 'low-level', 'phd', '>5', 'ci/cd', 'mcu', 'design for immunity', 'bus chassis', 'integration testing', 'ad/adas', 'stakeholders', 'm.sc.', 'equity analyst', 'bts', 'gpu development', 'back-end', 'artifactory', 'verbal', 'sae j3068', 'biopharmaceutical', 'offsite', 'schematic design', 'coverage model', 'etas inca', 'standardized requirement work', 'can', 'networking', 'data-centric', 'stake holder communication', 'erp system', 'electronics', 'saber', 'logistics systems', 'telecom', 'mechatronics', 'adas', 'polyspace', 'controller', 'quality assurance', 'coaching', 'canalayzer', 'c', 'invoicing', 'machine learning', 'train management', 'system lead', 'bachelor', 'technical', 'manage', 'windows', 'cmmi', 'project manager', 'cross-functional', 'management consulting', 'warranty', 'powertrain', 'end-to-end', 'bash', 'iso 15118', 'drivetrain', 'test programs', 'systems development', 'coordinating', 'robot framework', 'hazard analysis', 'oas', 'system testing', 'sensor perception layer', 'functional safety manager', 'report', 'efficiency', 'html', 'emc certification', 'uwb', 'it', 'diagnostics', 'esd', 'designer', 'oracle', 'testweaver', 'developer', 'healthcare', 'portfolio strategy', 'technical debt', 'confluence', 'unit testing', 'architecture', 'client discussion', '7740', 'sts', 'supply chain designer', 'electric motors', 'global coordination', 'aerospace', 'academic degree', 'e2e', 'efficient', 'flexray', 'financial modelling', 'embedded software', 'certification tests', 'design', 'business experience', 'configuration management', 'php', 'mechanical engineering', 'elektra', 'cloud', 'computer engineering', 'retail', 'vehicle electronics', 'eeprom', 'drug substance', 'high speed signals', 'power company', 'industrialization', 'filter designs', 'test', 'sap', 'css', 'system control', 'implementation', 'inverters', '5-8 years', 'validation', 'ad', 'electronics designer', 'application development', 'activism defense', 'front end', 'back end', 'sil1', 'cable harness engineer', 'it solutions', 'apriso', 'r&d', 'sql', 'wso2', 'software architect', 'track record', 'cd', 'business development', 'security', 'phone as key', 'jira', 'banking', 'system simulators', 'embedded system', 'hedging', 'sil', 'embedded systems', \"master's degree\", 'r3', 'pl', 'autonomous', 'app-centric', 'team lead', 'autosar', 'ai', 'bidding', 'traction', 'safe', 'budget', 'databases', 'international', 'rest api', 'saas', 'swedish', 'order management', 'automation', 'cts', 'budgeting', 'cameras', 'ccs', 'git', 'embedded', 'analog design', 'sw', 'emc', 'quality', 'customer value', 'vehicle certification', 'e-mobility', 'team leader', 'system verification', 'product manager', 'batteries', 'driving', '> 5', 'international business', 'scm', 'financial institutions', 'advanced driver assistance system', 'carve-out', 'team work', 'b.sc.', 'battery', 'dc/dc', 'linux', 'functional development', 'research & development', 'iso26262', 'home office', 'vehicle', 'operational team management', 'workshops', 'warranties', 'optimization', 'debugging', 'carweaver', 'hardware', 'pcb-a', 'italian', 'system development', 'din 70121', 'claim management', 'software developer', 'review', 'business', 'logistics', 'asil', 'computer science', 'cyber security', 'verification', 'chargers', 'vts', 'initiative', 'keycloak', 'qnx', 'carcom', 'ultrasonic perception', 'strategic vulnerabilities', 'payments', 'design for emissions', 'c/c++', 'bid teams', 'epsm', 'simulink', 'hil testing', 'angular', 'python', 'restful', 'sensor signaling', 'financing', 'digital key', 'fintech', 'operational', 'user experience', 'leader', 'railway', 'pcb', 'polarion', 'portuguese', 'continuous integration', 'radars', 'design guidelines', 'ethernet', 'electronic designer', 'vehicle dynamics', 'mba', 'matlab', 'economy', 'testing methodology', 'capl', 'java', 'master of science', 'ram', '10+', 'automotive', 'traction batteries', 'management', 'driving license', 'inca', 'english', 'pm', 'ci', 'system architecture', 'architect', 'stk calculations', 'coordination', 'gtest', 'cybersecurity', 'sell-side', 's4hana', 'intellij', 'ul4600', 'cable harness designer', 'finance', 'agile', 'nand', 'communication', 'canalyser', 'aspice', 'sw architect', 'ad platform', 'technology', 'engineering physics', 'invoice', 'test methods', 'safety', 'construction', 'customer requirement', 'mälardalen', 'software requirements', 'robot', \"bachelor's degree\", 'nfc', 'ble', 'integrity', 'rest', 'risk assessment', 'big data', 'c++', 'supply strategy', 'project leader', 'change management', 'design alternatives', 'spring', 'scrum', 'system architect'}"
   ]
  },
  {
   "cell_type": "code",
   "execution_count": 6,
   "metadata": {},
   "outputs": [
    {
     "output_type": "execute_result",
     "data": {
      "text/plain": [
       "['ad', 'system', 'designer', '/', 'system']"
      ]
     },
     "metadata": {},
     "execution_count": 6
    }
   ],
   "source": [
    "tokens = t.split(' ')\n",
    "tokens[:5]"
   ]
  },
  {
   "cell_type": "code",
   "execution_count": 7,
   "metadata": {},
   "outputs": [
    {
     "output_type": "execute_result",
     "data": {
      "text/plain": [
       "[3, 2, 2]"
      ]
     },
     "metadata": {},
     "execution_count": 7
    }
   ],
   "source": [
    "sorted([x.count(' ') for x in keywords], reverse=True)[:3]"
   ]
  },
  {
   "cell_type": "code",
   "execution_count": 10,
   "metadata": {
    "tags": []
   },
   "outputs": [],
   "source": [
    "tagged_token = []\n",
    "prev_index = 0\n",
    "for i in range(len(tokens)):\n",
    "    if i < prev_index:\n",
    "        continue\n",
    "    token = tokens[i]\n",
    "    num_tokens = 0\n",
    "    \n",
    "    if i < len(tokens) - 3 and ' '.join(tokens[i:i+4]) in keywords:\n",
    "        num_tokens = 4\n",
    "    elif i < len(tokens) - 2 and ' '.join(tokens[i:i+3]) in keywords:\n",
    "        num_tokens = 3\n",
    "    elif i < len(tokens) - 1 and ' '.join(tokens[i:i+2]) in keywords:\n",
    "        num_tokens = 2\n",
    "    elif token in keywords:\n",
    "        num_tokens = 1\n",
    "    \n",
    "    if num_tokens > 0:\n",
    "        for j in range(num_tokens):\n",
    "            if j == 0:\n",
    "                tagged_token.append(f\"{tokens[i+j]} B-KEY\")\n",
    "            else:\n",
    "                tagged_token.append(f\"{tokens[i+j]} I-KEY\")\n",
    "        prev_index = i + num_tokens\n",
    "    else:\n",
    "        prev_index = i\n",
    "        tagged_token.append(f\"{token} 0\")"
   ]
  },
  {
   "cell_type": "code",
   "execution_count": 11,
   "metadata": {},
   "outputs": [
    {
     "output_type": "execute_result",
     "data": {
      "text/plain": [
       "['ad B-KEY',\n",
       " 'system 0',\n",
       " 'designer B-KEY',\n",
       " '/ 0',\n",
       " 'system B-KEY',\n",
       " 'architect I-KEY',\n",
       " '- 0',\n",
       " 'automotive B-KEY',\n",
       " ', 0',\n",
       " 'referens 0',\n",
       " '20922 0',\n",
       " '. 0',\n",
       " 'ansök 0',\n",
       " 'här 0',\n",
       " '. 0',\n",
       " 'uppdragsbeskrivning 0',\n",
       " 'och 0',\n",
       " 'krav 0',\n",
       " '. 0',\n",
       " 'we 0']"
      ]
     },
     "metadata": {},
     "execution_count": 11
    }
   ],
   "source": [
    "tagged_token[:20]"
   ]
  },
  {
   "cell_type": "code",
   "execution_count": 12,
   "metadata": {},
   "outputs": [],
   "source": [
    "with open('data/keyword_ds/ds.txt', 'w') as f:\n",
    "    f.write('\\n'.join(tagged_token))"
   ]
  },
  {
   "cell_type": "code",
   "execution_count": 17,
   "metadata": {},
   "outputs": [
    {
     "output_type": "stream",
     "name": "stdout",
     "text": [
      "2021-06-03 18:59:52,362 Reading data from data/keyword_ds\n",
      "2021-06-03 18:59:52,363 Train: data/keyword_ds/ds.txt\n",
      "2021-06-03 18:59:52,365 Dev: None\n",
      "2021-06-03 18:59:52,365 Test: None\n",
      "Dictionary with 7 tags: <unk>, O, B-KEY, 0, I-KEY, <START>, <STOP>\n"
     ]
    }
   ],
   "source": [
    "columns = {0: 'text', 1: 'ner'}\n",
    "corpus: Corpus = ColumnCorpus('data/keyword_ds', columns, train_file='ds.txt')\n",
    "# 2. what tag do we want to predict?\n",
    "tag_type = 'ner'\n",
    "\n",
    "# 3. make the tag dictionary from the corpus\n",
    "tag_dictionary = corpus.make_tag_dictionary(tag_type=tag_type)\n",
    "print(tag_dictionary)"
   ]
  },
  {
   "cell_type": "code",
   "execution_count": null,
   "metadata": {},
   "outputs": [],
   "source": [
    "embedding_types = [\n",
    "\tBytePairEmbeddings('sv'),\n",
    "\tFlairEmbeddings(\"sv-forward\"),\n",
    "\tFlairEmbeddings(\"sv-backward\")\n",
    "]\n",
    "\n",
    "embeddings: StackedEmbeddings = StackedEmbeddings(embeddings=embedding_types)\n",
    "\n",
    "# 5. initialize sequence tagger\n",
    "tagger: SequenceTagger = SequenceTagger(hidden_size=256,\n",
    "\t\t\t\t\t\t\t\t\t\tembeddings=embeddings,\n",
    "\t\t\t\t\t\t\t\t\t\ttag_dictionary=tag_dictionary,\n",
    "\t\t\t\t\t\t\t\t\t\ttag_type=tag_type,\n",
    "\t\t\t\t\t\t\t\t\t\tuse_crf=True)"
   ]
  }
 ]
}