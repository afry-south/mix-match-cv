{
 "metadata": {
  "language_info": {
   "codemirror_mode": {
    "name": "ipython",
    "version": 3
   },
   "file_extension": ".py",
   "mimetype": "text/x-python",
   "name": "python",
   "nbconvert_exporter": "python",
   "pygments_lexer": "ipython3",
   "version": "3.9.2"
  },
  "orig_nbformat": 2,
  "kernelspec": {
   "name": "python392jvsc74a57bd0ec49377734e452f7232cd190f0d9cf7bf2c279fdb44b8c7a9fbd8a2977087685",
   "display_name": "Python 3.9.2 64-bit ('flair': conda)"
  },
  "metadata": {
   "interpreter": {
    "hash": "ec49377734e452f7232cd190f0d9cf7bf2c279fdb44b8c7a9fbd8a2977087685"
   }
  }
 },
 "nbformat": 4,
 "nbformat_minor": 2,
 "cells": [
  {
   "cell_type": "code",
   "execution_count": 1,
   "metadata": {},
   "outputs": [
    {
     "output_type": "stream",
     "name": "stderr",
     "text": [
      "/home/londogard/miniconda3/envs/flair/lib/python3.9/site-packages/torch/cuda/__init__.py:52: UserWarning: CUDA initialization: Unexpected error from cudaGetDeviceCount(). Did you run some cuda functions before calling NumCudaDevices() that might have already set an error? Error 804: forward compatibility was attempted on non supported HW (Triggered internally at  /opt/conda/conda-bld/pytorch_1607370151529/work/c10/cuda/CUDAFunctions.cpp:100.)\n  return torch._C._cuda_getDeviceCount() > 0\n"
     ]
    }
   ],
   "source": [
    "import pandas as pd\n",
    "import flair\n",
    "from bpemb import BPEmb\n",
    "from sklearn.feature_extraction.text import TfidfVectorizer\n",
    "from scipy.spatial.distance import cdist\n",
    "from sklearn.decomposition import TruncatedSVD\n",
    "#import spacy"
   ]
  },
  {
   "cell_type": "code",
   "execution_count": 2,
   "metadata": {},
   "outputs": [],
   "source": [
    "full_files_assignment = [f\"data/assignment/{x}/assignment.txt\" for x in os.listdir('data/assignment')]\n",
    "full_files_data_assignment = [open(x).read() for x in full_files_assignment if not 'annot' in x and not '.DS' in x]"
   ]
  },
  {
   "cell_type": "code",
   "execution_count": 3,
   "metadata": {},
   "outputs": [
    {
     "output_type": "execute_result",
     "data": {
      "text/plain": [
       "'•\\nMAALINI KALYANASUNDARAN\\n\\n#23-03, 7 Alexandra View, Singapore, 158741.\\n+65 9186 4989\\nmaal89@gmail.com\\n\\nA highly motivated individual with experience in financial due diligence and auditing of various industries including\\nlisted and multinational companies. Competent in providing professional advice in areas such as accounting and\\ninternal control systems. Able to work with all members of staff and maintain a professional relationship with the\\nclient. Outspoken team player and enjoys a fast-pace'"
      ]
     },
     "metadata": {},
     "execution_count": 3
    }
   ],
   "source": [
    "full_files = [f\"data/resumes/{x}\" for x in os.listdir('data/resumes')]\n",
    "full_files_data = [open(x).read() for x in full_files]\n",
    "\n",
    "full_files_data[0][:500]"
   ]
  },
  {
   "cell_type": "code",
   "execution_count": 20,
   "metadata": {},
   "outputs": [],
   "source": [
    "vectorizer = TfidfVectorizer(stop_words='english', max_df=0.50, min_df=10)\n",
    "X = vectorizer.fit_transform(full_files_data+full_files_data_assignment)"
   ]
  },
  {
   "cell_type": "code",
   "execution_count": 21,
   "metadata": {},
   "outputs": [],
   "source": [
    "X_assignment = X[1037:]\n",
    "X_resume= X[:1037]"
   ]
  },
  {
   "cell_type": "code",
   "execution_count": 22,
   "metadata": {},
   "outputs": [],
   "source": [
    "dists = cdist(X_assignment[0].toarray(), X_resume.toarray(), metric='cosine')[0]\n",
    "idx = dists.argpartition(5)[:5]"
   ]
  },
  {
   "cell_type": "code",
   "execution_count": 23,
   "metadata": {},
   "outputs": [
    {
     "output_type": "execute_result",
     "data": {
      "text/plain": [
       "array([834, 485, 564, 673, 736])"
      ]
     },
     "metadata": {},
     "execution_count": 23
    }
   ],
   "source": [
    "idx"
   ]
  },
  {
   "cell_type": "code",
   "execution_count": 30,
   "metadata": {},
   "outputs": [
    {
     "output_type": "execute_result",
     "data": {
      "text/plain": [
       "'CHEW JIEN HOONG\\nMobile no: +65-9731 0220\\njienhoong_chew@hotmail.com\\nSingaporean PR\\n\\n» INTRODUCTION\\nA dynamic professional that is seeking a challenging position that leverages on technical, management\\nand communication skills gained from exposure in the Big Four accounting firms. Able to adapt quickly\\nto solve problems and provide value-adding solutions to contribute to business growth. Driven to\\nconstantly update skillset to remain relevant in the industry.\\n\\n» WORK EXPERIENCE\\nManager (Assurance'"
      ]
     },
     "metadata": {},
     "execution_count": 30
    }
   ],
   "source": [
    "full_files_data[564][:500]"
   ]
  },
  {
   "cell_type": "code",
   "execution_count": 9,
   "metadata": {},
   "outputs": [],
   "source": [
    "svd = TruncatedSVD(n_components=100)"
   ]
  },
  {
   "cell_type": "code",
   "execution_count": 10,
   "metadata": {},
   "outputs": [],
   "source": [
    "X2=svd.fit_transform(X)"
   ]
  },
  {
   "cell_type": "code",
   "execution_count": 11,
   "metadata": {},
   "outputs": [],
   "source": [
    "X_assignment = X2[1037:]\n",
    "X_resume= X2[:1037]"
   ]
  },
  {
   "cell_type": "code",
   "execution_count": 13,
   "metadata": {},
   "outputs": [
    {
     "output_type": "execute_result",
     "data": {
      "text/plain": [
       "(57, 100)"
      ]
     },
     "metadata": {},
     "execution_count": 13
    }
   ],
   "source": [
    "X_assignment.shape"
   ]
  },
  {
   "cell_type": "code",
   "execution_count": 17,
   "metadata": {},
   "outputs": [],
   "source": [
    "dists = cdist(X_assignment[:1], X_resume, metric='cosine')[0]\n",
    "idx = dists.argpartition(5)[:5]"
   ]
  },
  {
   "cell_type": "code",
   "execution_count": 18,
   "metadata": {},
   "outputs": [
    {
     "output_type": "execute_result",
     "data": {
      "text/plain": [
       "array([636, 803, 834, 411, 564])"
      ]
     },
     "metadata": {},
     "execution_count": 18
    }
   ],
   "source": [
    "idx"
   ]
  },
  {
   "cell_type": "code",
   "execution_count": 19,
   "metadata": {},
   "outputs": [
    {
     "output_type": "execute_result",
     "data": {
      "text/plain": [
       "array([0.86881592, 0.86767579, 0.85027917, 0.87312369, 0.87404793])"
      ]
     },
     "metadata": {},
     "execution_count": 19
    }
   ],
   "source": [
    "dists[idx]"
   ]
  },
  {
   "cell_type": "code",
   "execution_count": 141,
   "metadata": {},
   "outputs": [
    {
     "output_type": "execute_result",
     "data": {
      "text/plain": [
       "'data/resumes/621.txt'"
      ]
     },
     "metadata": {},
     "execution_count": 141
    }
   ],
   "source": [
    "full_files[485]"
   ]
  },
  {
   "cell_type": "code",
   "execution_count": 142,
   "metadata": {},
   "outputs": [],
   "source": [
    "#full_files_data_assignment[0]"
   ]
  },
  {
   "cell_type": "code",
   "execution_count": 118,
   "metadata": {},
   "outputs": [
    {
     "output_type": "execute_result",
     "data": {
      "text/plain": [
       "array([0.92283825, 0.93954975, 0.91325684, 0.90734625, 0.9425231 ,\n",
       "       0.95441858, 0.96513921, 0.93029642, 0.92184885])"
      ]
     },
     "metadata": {},
     "execution_count": 118
    }
   ],
   "source": [
    "dists[1:10]"
   ]
  }
 ]
}