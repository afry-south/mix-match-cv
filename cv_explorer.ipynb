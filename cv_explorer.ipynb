{
 "metadata": {
  "language_info": {
   "codemirror_mode": {
    "name": "ipython",
    "version": 3
   },
   "file_extension": ".py",
   "mimetype": "text/x-python",
   "name": "python",
   "nbconvert_exporter": "python",
   "pygments_lexer": "ipython3",
   "version": "3.9.2"
  },
  "orig_nbformat": 2,
  "kernelspec": {
   "name": "python392jvsc74a57bd0ec49377734e452f7232cd190f0d9cf7bf2c279fdb44b8c7a9fbd8a2977087685",
   "display_name": "Python 3.9.2 64-bit ('flair': conda)"
  },
  "metadata": {
   "interpreter": {
    "hash": "ec49377734e452f7232cd190f0d9cf7bf2c279fdb44b8c7a9fbd8a2977087685"
   }
  }
 },
 "nbformat": 4,
 "nbformat_minor": 2,
 "cells": [
  {
   "cell_type": "code",
   "execution_count": 33,
   "metadata": {},
   "outputs": [],
   "source": [
    "import pandas as pd\n",
    "import flair\n",
    "from bpemb import BPEmb\n",
    "from sklearn.feature_extraction.text import TfidfVectorizer\n",
    "from scipy.spatial.distance import cdist\n",
    "#import spacy"
   ]
  },
  {
   "cell_type": "code",
   "execution_count": 130,
   "metadata": {},
   "outputs": [],
   "source": [
    "full_files_assignment = [f\"data/assignment/{x}/assignment.txt\" for x in os.listdir('data/assignment')]\n",
    "full_files_data_assignment = [open(x).read() for x in full_files_assignment if not 'annot' in x and not '.DS' in x]"
   ]
  },
  {
   "cell_type": "code",
   "execution_count": 132,
   "metadata": {},
   "outputs": [
    {
     "output_type": "execute_result",
     "data": {
      "text/plain": [
       "'•\\nMAALINI KALYANASUNDARAN\\n\\n#23-03, 7 Alexandra View, Singapore, 158741.\\n+65 9186 4989\\nmaal89@gmail.com\\n\\nA highly motivated individual with experience in financial due diligence and auditing of various industries including\\nlisted and multinational companies. Competent in providing professional advice in areas such as accounting and\\ninternal control systems. Able to work with all members of staff and maintain a professional relationship with the\\nclient. Outspoken team player and enjoys a fast-pace'"
      ]
     },
     "metadata": {},
     "execution_count": 132
    }
   ],
   "source": [
    "full_files = [f\"data/resumes/{x}\" for x in os.listdir('data/resumes')]\n",
    "full_files_data = [open(x).read() for x in full_files]\n",
    "\n",
    "full_files_data[0][:500]"
   ]
  },
  {
   "cell_type": "code",
   "execution_count": 133,
   "metadata": {},
   "outputs": [],
   "source": [
    "vectorizer = TfidfVectorizer(stop_words='english', max_df=0.50, min_df=10)\n",
    "X = vectorizer.fit_transform(full_files_data+full_files_data_assignment)"
   ]
  },
  {
   "cell_type": "code",
   "execution_count": 134,
   "metadata": {},
   "outputs": [],
   "source": [
    "X_assignment = X[1037:]\n",
    "X_resume= X[:1037]"
   ]
  },
  {
   "cell_type": "code",
   "execution_count": 135,
   "metadata": {},
   "outputs": [],
   "source": [
    "dists = cdist(X_assignment[0].toarray(), X_resume.toarray(), metric='cosine')[0]\n",
    "idx = dists.argpartition(5)[:5]"
   ]
  },
  {
   "cell_type": "code",
   "execution_count": 136,
   "metadata": {},
   "outputs": [
    {
     "output_type": "execute_result",
     "data": {
      "text/plain": [
       "array([834, 485, 564, 673, 736])"
      ]
     },
     "metadata": {},
     "execution_count": 136
    }
   ],
   "source": [
    "idx"
   ]
  },
  {
   "cell_type": "code",
   "execution_count": 137,
   "metadata": {},
   "outputs": [
    {
     "output_type": "execute_result",
     "data": {
      "text/plain": [
       "array([0.93001996, 0.93627433, 0.9366737 , 0.93842124, 0.93741841])"
      ]
     },
     "metadata": {},
     "execution_count": 137
    }
   ],
   "source": [
    "dists[idx]"
   ]
  },
  {
   "cell_type": "code",
   "execution_count": 141,
   "metadata": {},
   "outputs": [
    {
     "output_type": "execute_result",
     "data": {
      "text/plain": [
       "'data/resumes/621.txt'"
      ]
     },
     "metadata": {},
     "execution_count": 141
    }
   ],
   "source": [
    "full_files[485]"
   ]
  },
  {
   "cell_type": "code",
   "execution_count": 142,
   "metadata": {},
   "outputs": [],
   "source": [
    "#full_files_data_assignment[0]"
   ]
  },
  {
   "cell_type": "code",
   "execution_count": 118,
   "metadata": {},
   "outputs": [
    {
     "output_type": "execute_result",
     "data": {
      "text/plain": [
       "array([0.92283825, 0.93954975, 0.91325684, 0.90734625, 0.9425231 ,\n",
       "       0.95441858, 0.96513921, 0.93029642, 0.92184885])"
      ]
     },
     "metadata": {},
     "execution_count": 118
    }
   ],
   "source": [
    "dists[1:10]"
   ]
  },
  {
   "source": [
    "- Automatic Matching\n",
    "    - Keyword Extraction + Keyword Matching\n",
    "        - Keyword Classifier\n",
    "    - Embedd document\n",
    "        - Vectorization\n",
    "    - Classify with little annotated data (CV matching assignment X)\n",
    "        - 5 assignments\n",
    "        - 3 resumes / assigment\n",
    "    - Clustering\n",
    "        - Se slack (Felix)\n",
    "- Smart Search\n",
    "    - Fuzzy & FTS"
   ],
   "cell_type": "markdown",
   "metadata": {}
  }
 ]
}