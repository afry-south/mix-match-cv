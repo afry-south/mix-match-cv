{
 "metadata": {
  "language_info": {
   "codemirror_mode": {
    "name": "ipython",
    "version": 3
   },
   "file_extension": ".py",
   "mimetype": "text/x-python",
   "name": "python",
   "nbconvert_exporter": "python",
   "pygments_lexer": "ipython3",
   "version": "3.9.2"
  },
  "orig_nbformat": 2,
  "kernelspec": {
   "name": "python392jvsc74a57bd0ec49377734e452f7232cd190f0d9cf7bf2c279fdb44b8c7a9fbd8a2977087685",
   "display_name": "Python 3.9.2 64-bit ('flair': conda)"
  },
  "metadata": {
   "interpreter": {
    "hash": "ec49377734e452f7232cd190f0d9cf7bf2c279fdb44b8c7a9fbd8a2977087685"
   }
  }
 },
 "nbformat": 4,
 "nbformat_minor": 2,
 "cells": [
  {
   "cell_type": "code",
   "execution_count": 167,
   "metadata": {},
   "outputs": [],
   "source": [
    "import pandas as pd\n",
    "import flair\n",
    "from sklearn.pipeline import Pipeline\n",
    "from bpemb import BPEmb\n",
    "from sklearn.feature_extraction.text import TfidfVectorizer\n",
    "from scipy.spatial.distance import cdist\n",
    "from nltk.stem import WordNetLemmatizer\n",
    "import regex as re\n",
    "from nltk.corpus import stopwords\n",
    "import nltk\n",
    "from sklearn.feature_extraction.text import CountVectorizer\n",
    "from sklearn.decomposition import TruncatedSVD\n",
    "from sklearn.cluster import KMeans, DBSCAN\n",
    "from scipy.spatial.distance import cdist\n",
    "from sklearn.preprocessing import OneHotEncoder"
   ]
  },
  {
   "cell_type": "code",
   "execution_count": 30,
   "metadata": {},
   "outputs": [
    {
     "output_type": "stream",
     "name": "stderr",
     "text": [
      "[nltk_data] Downloading package stopwords to\n",
      "[nltk_data]     /home/londogard/nltk_data...\n",
      "[nltk_data]   Package stopwords is already up-to-date!\n",
      "[nltk_data] Downloading package wordnet to\n",
      "[nltk_data]     /home/londogard/nltk_data...\n",
      "[nltk_data]   Unzipping corpora/wordnet.zip.\n"
     ]
    },
    {
     "output_type": "execute_result",
     "data": {
      "text/plain": [
       "True"
      ]
     },
     "metadata": {},
     "execution_count": 30
    }
   ],
   "source": [
    "nltk.download('stopwords')\n",
    "nltk.download('wordnet')"
   ]
  },
  {
   "cell_type": "code",
   "execution_count": 49,
   "metadata": {},
   "outputs": [],
   "source": [
    "keywords = {'wireshark', 'cyber', 'docker', 'kanban', 'latest technologies', 'teaching skills', 'jenkins', 'sae j2847', 'system design', 'android', 'ccc', 'measurements', 'thermal conditioning', 'product development process', 'sales', 'verification tests', 'plc', 'test automation', 'private equity', 'data handling', 'maven', 'in-vehicle software', 'project management', 'validate', 'autonomous driver', 'insurances', 'drug', 'problem solver', 'infotainment', 'sensor fusion', 'ats', 'documentation', 'integration transformation', 'test planning', 'wallet-sizing analysis', 'software requirement', 'propulsion', 'test plans', 'canalyzer', 'nvidia', 'research and development', 'team efficiency', 'modems', 'automated test', 'matlab simulink', 'spice', 'lead', 'canoe', 'stk', 'control', 'product owner', 'lin', 'signal processing', 'insurance', 'frontend', 'customer', 'mil', 'backend', 'github', 'database', 'engineering tests', 'web services', 'automotive standards', 'valuation gap', 'university degree', 'software', 'cabel harness', 'application maintenance', 'sw test', 'collaborative', 'engineering', 'pcb and manufacturing', 'documenting processes', 'planning', 'safety requirement', 'coordinate', 'microprocessor system', 'interfaces', 'javascript', 'communication skills', 'user intent algorithms', 'target setting', 'rtos', 'hil', 'devops', 'digital design', 'manufacturing', 'electrical engineering', 'fund', 'sensors', 'soc', 'front-end', '5+', 'kola', 'network', 'gerrit', 'financial', 'signals', 'recruitment', 'low-level', 'phd', '>5', 'ci/cd', 'mcu', 'design for immunity', 'bus chassis', 'integration testing', 'ad/adas', 'stakeholders', 'm.sc.', 'equity analyst', 'bts', 'gpu development', 'back-end', 'artifactory', 'verbal', 'sae j3068', 'biopharmaceutical', 'offsite', 'schematic design', 'coverage model', 'etas inca', 'standardized requirement work', 'can', 'networking', 'data-centric', 'stake holder communication', 'erp system', 'electronics', 'saber', 'logistics systems', 'telecom', 'mechatronics', 'adas', 'polyspace', 'controller', 'quality assurance', 'coaching', 'canalayzer', 'c', 'invoicing', 'machine learning', 'train management', 'system lead', 'bachelor', 'technical', 'manage', 'windows', 'cmmi', 'project manager', 'cross-functional', 'management consulting', 'warranty', 'powertrain', 'end-to-end', 'bash', 'iso 15118', 'drivetrain', 'test programs', 'systems development', 'coordinating', 'robot framework', 'hazard analysis', 'oas', 'system testing', 'sensor perception layer', 'functional safety manager', 'report', 'efficiency', 'html', 'emc certification', 'uwb', 'it', 'diagnostics', 'esd', 'designer', 'oracle', 'testweaver', 'developer', 'healthcare', 'portfolio strategy', 'technical debt', 'confluence', 'unit testing', 'architecture', 'client discussion', '7740', 'sts', 'supply chain designer', 'electric motors', 'global coordination', 'aerospace', 'academic degree', 'e2e', 'efficient', 'flexray', 'financial modelling', 'embedded software', 'certification tests', 'design', 'business experience', 'configuration management', 'php', 'mechanical engineering', 'elektra', 'cloud', 'computer engineering', 'retail', 'vehicle electronics', 'eeprom', 'drug substance', 'high speed signals', 'power company', 'industrialization', 'filter designs', 'test', 'sap', 'css', 'system control', 'implementation', 'inverters', '5-8 years', 'validation', 'ad', 'electronics designer', 'application development', 'activism defense', 'front end', 'back end', 'sil1', 'cable harness engineer', 'it solutions', 'apriso', 'r&d', 'sql', 'wso2', 'software architect', 'track record', 'cd', 'business development', 'security', 'phone as key', 'jira', 'banking', 'system simulators', 'embedded system', 'hedging', 'sil', 'embedded systems', \"master's degree\", 'r3', 'pl', 'autonomous', 'app-centric', 'team lead', 'autosar', 'ai', 'bidding', 'traction', 'safe', 'budget', 'databases', 'international', 'rest api', 'saas', 'swedish', 'order management', 'automation', 'cts', 'budgeting', 'cameras', 'ccs', 'git', 'embedded', 'analog design', 'sw', 'emc', 'quality', 'customer value', 'vehicle certification', 'e-mobility', 'team leader', 'system verification', 'product manager', 'batteries', 'driving', '> 5', 'international business', 'scm', 'financial institutions', 'advanced driver assistance system', 'carve-out', 'team work', 'b.sc.', 'battery', 'dc/dc', 'linux', 'functional development', 'research & development', 'iso26262', 'home office', 'vehicle', 'operational team management', 'workshops', 'warranties', 'optimization', 'debugging', 'carweaver', 'hardware', 'pcb-a', 'italian', 'system development', 'din 70121', 'claim management', 'software developer', 'review', 'business', 'logistics', 'asil', 'computer science', 'cyber security', 'verification', 'chargers', 'vts', 'initiative', 'keycloak', 'qnx', 'carcom', 'ultrasonic perception', 'strategic vulnerabilities', 'payments', 'design for emissions', 'c/c++', 'bid teams', 'epsm', 'simulink', 'hil testing', 'angular', 'python', 'restful', 'sensor signaling', 'financing', 'digital key', 'fintech', 'operational', 'user experience', 'leader', 'railway', 'pcb', 'polarion', 'portuguese', 'continuous integration', 'radars', 'design guidelines', 'ethernet', 'electronic designer', 'vehicle dynamics', 'mba', 'matlab', 'economy', 'testing methodology', 'capl', 'java', 'master of science', 'ram', '10+', 'automotive', 'traction batteries', 'management', 'driving license', 'inca', 'english', 'pm', 'ci', 'system architecture', 'architect', 'stk calculations', 'coordination', 'gtest', 'cybersecurity', 'sell-side', 's4hana', 'intellij', 'ul4600', 'cable harness designer', 'finance', 'agile', 'nand', 'communication', 'canalyser', 'aspice', 'sw architect', 'ad platform', 'technology', 'engineering physics', 'invoice', 'test methods', 'safety', 'construction', 'customer requirement', 'mälardalen', 'software requirements', 'robot', \"bachelor's degree\", 'nfc', 'ble', 'integrity', 'rest', 'risk assessment', 'big data', 'c++', 'supply strategy', 'project leader', 'change management', 'design alternatives', 'spring', 'scrum'}"
   ]
  },
  {
   "cell_type": "code",
   "execution_count": 25,
   "metadata": {},
   "outputs": [
    {
     "output_type": "execute_result",
     "data": {
      "text/plain": [
       "['i', 'me', 'my']"
      ]
     },
     "metadata": {},
     "execution_count": 25
    }
   ],
   "source": [
    "sw = stopwords.words('english')\n",
    "sw[:3]"
   ]
  },
  {
   "cell_type": "code",
   "execution_count": 5,
   "metadata": {},
   "outputs": [],
   "source": [
    "lemmatizer = WordNetLemmatizer()"
   ]
  },
  {
   "source": [
    "- Tokenize\n",
    "- Lemmatize\n",
    "- Stopword\n",
    "- Lowercase\n",
    "- Remove outliers (?)\n",
    "- Replace multispace"
   ],
   "cell_type": "markdown",
   "metadata": {}
  },
  {
   "cell_type": "code",
   "execution_count": 16,
   "metadata": {},
   "outputs": [],
   "source": [
    "full_files = [f\"data/resumes/{x}\" for x in os.listdir('data/resumes')]\n",
    "full_files_data = [open(x).read() for x in full_files]\n",
    "full_files_assignment = [f\"data/assignment/{x}/assignment.txt\" for x in os.listdir('data/assignment')]\n",
    "full_files_data_assignment = [open(x).read() for x in full_files_assignment if not 'annot' in x and not '.DS' in x]"
   ]
  },
  {
   "cell_type": "code",
   "execution_count": 17,
   "metadata": {},
   "outputs": [],
   "source": [
    "multi_space = re.compile(\"\\s+\")"
   ]
  },
  {
   "cell_type": "code",
   "execution_count": 20,
   "metadata": {},
   "outputs": [],
   "source": [
    "full_files_data = [multi_space.sub(' ', x) for x in full_files_data]\n",
    "full_files_data_assignment = [multi_space.sub(' ', x) for x in full_files_data_assignment]"
   ]
  },
  {
   "source": [
    "    Plotta CV i rymd (stem, lemma, extract keywords, embed)\n",
    "    Plotta assignment i samma rymd (stem, lemma, extract keywords embed)\n",
    "    Bestäm X (antal matchningar som önskas)\n",
    "    Räkna ut hur många kluster som behövs (antal CV delat med X)\n",
    "    Klustra\n",
    "    Välj kluster som innehåller assignment\n",
    "\n",
    "2:14\n",
    "Ev använd dimensionality reduction (t.ex. PCA)"
   ],
   "cell_type": "markdown",
   "metadata": {}
  },
  {
   "cell_type": "code",
   "execution_count": 132,
   "metadata": {},
   "outputs": [],
   "source": [
    "def clean(token):\n",
    "    x = lemmatizer.lemmatize(token)\n",
    "    x = '' if x in sw else x\n",
    "    x = x.lower()\n",
    "    return x"
   ]
  },
  {
   "cell_type": "code",
   "execution_count": 157,
   "metadata": {},
   "outputs": [],
   "source": [
    "def clean_data(data):\n",
    "    clean_x = [[clean(y) for y in x.split(' ')] for x in data]\n",
    "    clean_x = [[y for y in x if len(y)] for x in clean_x]\n",
    "    clean_x = [' '.join(x) for x in clean_x]\n",
    "    return clean_x"
   ]
  },
  {
   "cell_type": "code",
   "execution_count": 158,
   "metadata": {},
   "outputs": [],
   "source": [
    "clean_resume = clean_data(full_files_data)\n",
    "clean_assignment = clean_data(full_files_data_assignment)"
   ]
  },
  {
   "cell_type": "code",
   "execution_count": 159,
   "metadata": {},
   "outputs": [],
   "source": [
    "vectorizer = CountVectorizer(vocabulary=keywords)\n",
    "vec_data = vectorizer.fit_transform(clean_resume+clean_assignment)"
   ]
  },
  {
   "cell_type": "code",
   "execution_count": 160,
   "metadata": {},
   "outputs": [],
   "source": [
    "vec_resume = vec_data[:len(clean_resume)]\n",
    "vec_assignment = vec_data[1037:]"
   ]
  },
  {
   "cell_type": "code",
   "execution_count": 168,
   "metadata": {},
   "outputs": [],
   "source": [
    "svd = TruncatedSVD(n_components=100)"
   ]
  },
  {
   "cell_type": "code",
   "execution_count": 174,
   "metadata": {},
   "outputs": [],
   "source": [
    "vec_svd = svd.fit_transform(vec_data)"
   ]
  },
  {
   "cell_type": "code",
   "execution_count": 186,
   "metadata": {},
   "outputs": [],
   "source": [
    "clustering = KMeans(n_clusters=200).fit(vec_svd)"
   ]
  },
  {
   "cell_type": "code",
   "execution_count": 214,
   "metadata": {},
   "outputs": [],
   "source": [
    "import numpy as np"
   ]
  },
  {
   "cell_type": "code",
   "execution_count": 218,
   "metadata": {},
   "outputs": [
    {
     "output_type": "execute_result",
     "data": {
      "text/plain": [
       "(array([1037, 1038, 1041, 1066, 1075, 1091]),)"
      ]
     },
     "metadata": {},
     "execution_count": 218
    }
   ],
   "source": [
    "np.where(clustering.predict(vec_svd) == 160)"
   ]
  },
  {
   "cell_type": "code",
   "execution_count": 212,
   "metadata": {},
   "outputs": [
    {
     "output_type": "execute_result",
     "data": {
      "text/plain": [
       "'Project Manager, Reference 23105 Apply here Assignment Description and Requirements Project Manager_Treasury_Global Liquidity Management Tool The mission: It is your mission to run projects from idea to implementation. You are generally interested in technology, Business and IT deliverables and have a high interest in accelerating the digital agenda. Being responsive and enjoy working in a truly dynamic and international environment with global coordination describes you. Here we are developing and implementing a new process and solution for Treasury called Global Liquidity Management Tool for cash visibility, predictability and accessibility along with payment features and bank connections. We will retrieve data from different ERP systems and other external systems to achieve the required results. We have completed the RFP and are in the middle of the blueprint. We need your help to manage the project through the next phase starting with a pilot rollout before the full rollout. You are working together with some Business and IT colleagues and external partners. To be successful here, we are looking for a Project Manager with a background managing different kind of projects among all digital ones with some experience from SaaS solutions, Finance rollouts and integration with other systems. You are coming as an experienced PM but you still enjoy delivering on an operational level and who has driven successful projects with these components. A very interesting global project is waiting for you. Leading this project means coordinating our internal resources both business and IT representatives, managing dependencies to other projects/streams and continuously following up on progress and present an implementation plan to the decision makers. Your scope is global. Final scope for the rollout is to set which give you the opportunity to influence how you want to structure this in the most efficient way for the full rollout. One key challenge in this project is to manage the project according to our project methodology, excellent change management and communication skills will help the project deliver on its objectives. Location: Open since we due to the corona situation working remote so you need to be prepared working from your home office. This is a 50% assignment, starting with 6 months. We are looking into possibility to combine this with another one to be able to offer you a full time job. Your passion: You love and excel at leading projects with clear drivers and deliverables and live the word being accountable for the end-to-end activities. Interaction with project team members and key stakeholders is your passion. Your strengths You have already delivered projects and pre-studies and can build and drive a project team to deliver on time. This requires a relationship building personality and an excellent sense for business and priorities. You create strong follow-up structures, are good at managing Steering Committee meetings and seek clarity, alignment and clear decisions on how to progress throughout the project. You do not fear transparency and flag any concerns early. You need to be fairly hands-on and in the details while able to consolidate and filter information based on context and audience. Your (business) English is excellent both verbal and written. Any proficiency in Swedish would be beneficial. Typical background: You as project manager left trail of successful implementations and rollout projects behind you and come highly recommended. Proven experience of building a strong collaborative project team across multi locations and interacting with different cultures is a necessity. Methodology The project pre-study is to be run according to our project model and follow-up mechanisms. Organisation You will be placed in the European IT Project Management office and report functionally to one of the Project Management Team Leaders and operationally to the Business Lead.'"
      ]
     },
     "metadata": {},
     "execution_count": 212
    }
   ],
   "source": [
    "full_files_data_assignment[19]"
   ]
  },
  {
   "cell_type": "code",
   "execution_count": 124,
   "metadata": {},
   "outputs": [
    {
     "output_type": "error",
     "ename": "ValueError",
     "evalue": "Expected 2D array, got 1D array instead:\narray=['financial control finance quality business financial technical management financial lead construction financial review financial manage'\n 'financial fund management financial documentation management quality financial financial coordinating management quality financial planning financial planning ad implementation review review financial management control financial documentation management quality financial management management communication review quality network'\n 'fund review financial management manufacturing financial financial technology sell-side financial management'\n ...\n 'design safe design technical customer cross-functional collaborative quality driving architecture design safety control'\n 'software developer planning planning coordinating software communication planning lead'\n 'traction battery software software traction battery management battery battery battery safe diagnostics battery battery communication safety safety software developer safety safety implementation design software traction engineering safety architecture quality communication'].\nReshape your data either using array.reshape(-1, 1) if your data has a single feature or array.reshape(1, -1) if it contains a single sample.",
     "traceback": [
      "\u001b[0;31m---------------------------------------------------------------------------\u001b[0m",
      "\u001b[0;31mValueError\u001b[0m                                Traceback (most recent call last)",
      "\u001b[0;32m<ipython-input-124-459df8a61aeb>\u001b[0m in \u001b[0;36m<module>\u001b[0;34m\u001b[0m\n\u001b[1;32m      1\u001b[0m \u001b[0;31m# ONe Hot\u001b[0m\u001b[0;34m\u001b[0m\u001b[0;34m\u001b[0m\u001b[0;34m\u001b[0m\u001b[0m\n\u001b[1;32m      2\u001b[0m \u001b[0mvectorizer\u001b[0m \u001b[0;34m=\u001b[0m \u001b[0mOneHotEncoder\u001b[0m\u001b[0;34m(\u001b[0m\u001b[0;34m)\u001b[0m\u001b[0;34m\u001b[0m\u001b[0;34m\u001b[0m\u001b[0m\n\u001b[0;32m----> 3\u001b[0;31m \u001b[0mvec_data\u001b[0m \u001b[0;34m=\u001b[0m \u001b[0mvectorizer\u001b[0m\u001b[0;34m.\u001b[0m\u001b[0mfit_transform\u001b[0m\u001b[0;34m(\u001b[0m\u001b[0mclean_resume\u001b[0m\u001b[0;34m+\u001b[0m\u001b[0mclean_assignment\u001b[0m\u001b[0;34m)\u001b[0m\u001b[0;34m\u001b[0m\u001b[0;34m\u001b[0m\u001b[0m\n\u001b[0m",
      "\u001b[0;32m~/miniconda3/envs/flair/lib/python3.9/site-packages/sklearn/preprocessing/_encoders.py\u001b[0m in \u001b[0;36mfit_transform\u001b[0;34m(self, X, y)\u001b[0m\n\u001b[1;32m    441\u001b[0m         \"\"\"\n\u001b[1;32m    442\u001b[0m         \u001b[0mself\u001b[0m\u001b[0;34m.\u001b[0m\u001b[0m_validate_keywords\u001b[0m\u001b[0;34m(\u001b[0m\u001b[0;34m)\u001b[0m\u001b[0;34m\u001b[0m\u001b[0;34m\u001b[0m\u001b[0m\n\u001b[0;32m--> 443\u001b[0;31m         \u001b[0;32mreturn\u001b[0m \u001b[0msuper\u001b[0m\u001b[0;34m(\u001b[0m\u001b[0;34m)\u001b[0m\u001b[0;34m.\u001b[0m\u001b[0mfit_transform\u001b[0m\u001b[0;34m(\u001b[0m\u001b[0mX\u001b[0m\u001b[0;34m,\u001b[0m \u001b[0my\u001b[0m\u001b[0;34m)\u001b[0m\u001b[0;34m\u001b[0m\u001b[0;34m\u001b[0m\u001b[0m\n\u001b[0m\u001b[1;32m    444\u001b[0m \u001b[0;34m\u001b[0m\u001b[0m\n\u001b[1;32m    445\u001b[0m     \u001b[0;32mdef\u001b[0m \u001b[0mtransform\u001b[0m\u001b[0;34m(\u001b[0m\u001b[0mself\u001b[0m\u001b[0;34m,\u001b[0m \u001b[0mX\u001b[0m\u001b[0;34m)\u001b[0m\u001b[0;34m:\u001b[0m\u001b[0;34m\u001b[0m\u001b[0;34m\u001b[0m\u001b[0m\n",
      "\u001b[0;32m~/miniconda3/envs/flair/lib/python3.9/site-packages/sklearn/base.py\u001b[0m in \u001b[0;36mfit_transform\u001b[0;34m(self, X, y, **fit_params)\u001b[0m\n\u001b[1;32m    697\u001b[0m         \u001b[0;32mif\u001b[0m \u001b[0my\u001b[0m \u001b[0;32mis\u001b[0m \u001b[0;32mNone\u001b[0m\u001b[0;34m:\u001b[0m\u001b[0;34m\u001b[0m\u001b[0;34m\u001b[0m\u001b[0m\n\u001b[1;32m    698\u001b[0m             \u001b[0;31m# fit method of arity 1 (unsupervised transformation)\u001b[0m\u001b[0;34m\u001b[0m\u001b[0;34m\u001b[0m\u001b[0;34m\u001b[0m\u001b[0m\n\u001b[0;32m--> 699\u001b[0;31m             \u001b[0;32mreturn\u001b[0m \u001b[0mself\u001b[0m\u001b[0;34m.\u001b[0m\u001b[0mfit\u001b[0m\u001b[0;34m(\u001b[0m\u001b[0mX\u001b[0m\u001b[0;34m,\u001b[0m \u001b[0;34m**\u001b[0m\u001b[0mfit_params\u001b[0m\u001b[0;34m)\u001b[0m\u001b[0;34m.\u001b[0m\u001b[0mtransform\u001b[0m\u001b[0;34m(\u001b[0m\u001b[0mX\u001b[0m\u001b[0;34m)\u001b[0m\u001b[0;34m\u001b[0m\u001b[0;34m\u001b[0m\u001b[0m\n\u001b[0m\u001b[1;32m    700\u001b[0m         \u001b[0;32melse\u001b[0m\u001b[0;34m:\u001b[0m\u001b[0;34m\u001b[0m\u001b[0;34m\u001b[0m\u001b[0m\n\u001b[1;32m    701\u001b[0m             \u001b[0;31m# fit method of arity 2 (supervised transformation)\u001b[0m\u001b[0;34m\u001b[0m\u001b[0;34m\u001b[0m\u001b[0;34m\u001b[0m\u001b[0m\n",
      "\u001b[0;32m~/miniconda3/envs/flair/lib/python3.9/site-packages/sklearn/preprocessing/_encoders.py\u001b[0m in \u001b[0;36mfit\u001b[0;34m(self, X, y)\u001b[0m\n\u001b[1;32m    415\u001b[0m         \"\"\"\n\u001b[1;32m    416\u001b[0m         \u001b[0mself\u001b[0m\u001b[0;34m.\u001b[0m\u001b[0m_validate_keywords\u001b[0m\u001b[0;34m(\u001b[0m\u001b[0;34m)\u001b[0m\u001b[0;34m\u001b[0m\u001b[0;34m\u001b[0m\u001b[0m\n\u001b[0;32m--> 417\u001b[0;31m         self._fit(X, handle_unknown=self.handle_unknown,\n\u001b[0m\u001b[1;32m    418\u001b[0m                   force_all_finite='allow-nan')\n\u001b[1;32m    419\u001b[0m         \u001b[0mself\u001b[0m\u001b[0;34m.\u001b[0m\u001b[0mdrop_idx_\u001b[0m \u001b[0;34m=\u001b[0m \u001b[0mself\u001b[0m\u001b[0;34m.\u001b[0m\u001b[0m_compute_drop_idx\u001b[0m\u001b[0;34m(\u001b[0m\u001b[0;34m)\u001b[0m\u001b[0;34m\u001b[0m\u001b[0;34m\u001b[0m\u001b[0m\n",
      "\u001b[0;32m~/miniconda3/envs/flair/lib/python3.9/site-packages/sklearn/preprocessing/_encoders.py\u001b[0m in \u001b[0;36m_fit\u001b[0;34m(self, X, handle_unknown, force_all_finite)\u001b[0m\n\u001b[1;32m     75\u001b[0m \u001b[0;34m\u001b[0m\u001b[0m\n\u001b[1;32m     76\u001b[0m     \u001b[0;32mdef\u001b[0m \u001b[0m_fit\u001b[0m\u001b[0;34m(\u001b[0m\u001b[0mself\u001b[0m\u001b[0;34m,\u001b[0m \u001b[0mX\u001b[0m\u001b[0;34m,\u001b[0m \u001b[0mhandle_unknown\u001b[0m\u001b[0;34m=\u001b[0m\u001b[0;34m'error'\u001b[0m\u001b[0;34m,\u001b[0m \u001b[0mforce_all_finite\u001b[0m\u001b[0;34m=\u001b[0m\u001b[0;32mTrue\u001b[0m\u001b[0;34m)\u001b[0m\u001b[0;34m:\u001b[0m\u001b[0;34m\u001b[0m\u001b[0;34m\u001b[0m\u001b[0m\n\u001b[0;32m---> 77\u001b[0;31m         X_list, n_samples, n_features = self._check_X(\n\u001b[0m\u001b[1;32m     78\u001b[0m             X, force_all_finite=force_all_finite)\n\u001b[1;32m     79\u001b[0m \u001b[0;34m\u001b[0m\u001b[0m\n",
      "\u001b[0;32m~/miniconda3/envs/flair/lib/python3.9/site-packages/sklearn/preprocessing/_encoders.py\u001b[0m in \u001b[0;36m_check_X\u001b[0;34m(self, X, force_all_finite)\u001b[0m\n\u001b[1;32m     42\u001b[0m         \u001b[0;32mif\u001b[0m \u001b[0;32mnot\u001b[0m \u001b[0;34m(\u001b[0m\u001b[0mhasattr\u001b[0m\u001b[0;34m(\u001b[0m\u001b[0mX\u001b[0m\u001b[0;34m,\u001b[0m \u001b[0;34m'iloc'\u001b[0m\u001b[0;34m)\u001b[0m \u001b[0;32mand\u001b[0m \u001b[0mgetattr\u001b[0m\u001b[0;34m(\u001b[0m\u001b[0mX\u001b[0m\u001b[0;34m,\u001b[0m \u001b[0;34m'ndim'\u001b[0m\u001b[0;34m,\u001b[0m \u001b[0;36m0\u001b[0m\u001b[0;34m)\u001b[0m \u001b[0;34m==\u001b[0m \u001b[0;36m2\u001b[0m\u001b[0;34m)\u001b[0m\u001b[0;34m:\u001b[0m\u001b[0;34m\u001b[0m\u001b[0;34m\u001b[0m\u001b[0m\n\u001b[1;32m     43\u001b[0m             \u001b[0;31m# if not a dataframe, do normal check_array validation\u001b[0m\u001b[0;34m\u001b[0m\u001b[0;34m\u001b[0m\u001b[0;34m\u001b[0m\u001b[0m\n\u001b[0;32m---> 44\u001b[0;31m             X_temp = check_array(X, dtype=None,\n\u001b[0m\u001b[1;32m     45\u001b[0m                                  force_all_finite=force_all_finite)\n\u001b[1;32m     46\u001b[0m             if (not hasattr(X, 'dtype')\n",
      "\u001b[0;32m~/miniconda3/envs/flair/lib/python3.9/site-packages/sklearn/utils/validation.py\u001b[0m in \u001b[0;36minner_f\u001b[0;34m(*args, **kwargs)\u001b[0m\n\u001b[1;32m     61\u001b[0m             \u001b[0mextra_args\u001b[0m \u001b[0;34m=\u001b[0m \u001b[0mlen\u001b[0m\u001b[0;34m(\u001b[0m\u001b[0margs\u001b[0m\u001b[0;34m)\u001b[0m \u001b[0;34m-\u001b[0m \u001b[0mlen\u001b[0m\u001b[0;34m(\u001b[0m\u001b[0mall_args\u001b[0m\u001b[0;34m)\u001b[0m\u001b[0;34m\u001b[0m\u001b[0;34m\u001b[0m\u001b[0m\n\u001b[1;32m     62\u001b[0m             \u001b[0;32mif\u001b[0m \u001b[0mextra_args\u001b[0m \u001b[0;34m<=\u001b[0m \u001b[0;36m0\u001b[0m\u001b[0;34m:\u001b[0m\u001b[0;34m\u001b[0m\u001b[0;34m\u001b[0m\u001b[0m\n\u001b[0;32m---> 63\u001b[0;31m                 \u001b[0;32mreturn\u001b[0m \u001b[0mf\u001b[0m\u001b[0;34m(\u001b[0m\u001b[0;34m*\u001b[0m\u001b[0margs\u001b[0m\u001b[0;34m,\u001b[0m \u001b[0;34m**\u001b[0m\u001b[0mkwargs\u001b[0m\u001b[0;34m)\u001b[0m\u001b[0;34m\u001b[0m\u001b[0;34m\u001b[0m\u001b[0m\n\u001b[0m\u001b[1;32m     64\u001b[0m \u001b[0;34m\u001b[0m\u001b[0m\n\u001b[1;32m     65\u001b[0m             \u001b[0;31m# extra_args > 0\u001b[0m\u001b[0;34m\u001b[0m\u001b[0;34m\u001b[0m\u001b[0;34m\u001b[0m\u001b[0m\n",
      "\u001b[0;32m~/miniconda3/envs/flair/lib/python3.9/site-packages/sklearn/utils/validation.py\u001b[0m in \u001b[0;36mcheck_array\u001b[0;34m(array, accept_sparse, accept_large_sparse, dtype, order, copy, force_all_finite, ensure_2d, allow_nd, ensure_min_samples, ensure_min_features, estimator)\u001b[0m\n\u001b[1;32m    635\u001b[0m             \u001b[0;31m# If input is 1D raise error\u001b[0m\u001b[0;34m\u001b[0m\u001b[0;34m\u001b[0m\u001b[0;34m\u001b[0m\u001b[0m\n\u001b[1;32m    636\u001b[0m             \u001b[0;32mif\u001b[0m \u001b[0marray\u001b[0m\u001b[0;34m.\u001b[0m\u001b[0mndim\u001b[0m \u001b[0;34m==\u001b[0m \u001b[0;36m1\u001b[0m\u001b[0;34m:\u001b[0m\u001b[0;34m\u001b[0m\u001b[0;34m\u001b[0m\u001b[0m\n\u001b[0;32m--> 637\u001b[0;31m                 raise ValueError(\n\u001b[0m\u001b[1;32m    638\u001b[0m                     \u001b[0;34m\"Expected 2D array, got 1D array instead:\\narray={}.\\n\"\u001b[0m\u001b[0;34m\u001b[0m\u001b[0;34m\u001b[0m\u001b[0m\n\u001b[1;32m    639\u001b[0m                     \u001b[0;34m\"Reshape your data either using array.reshape(-1, 1) if \"\u001b[0m\u001b[0;34m\u001b[0m\u001b[0;34m\u001b[0m\u001b[0m\n",
      "\u001b[0;31mValueError\u001b[0m: Expected 2D array, got 1D array instead:\narray=['financial control finance quality business financial technical management financial lead construction financial review financial manage'\n 'financial fund management financial documentation management quality financial financial coordinating management quality financial planning financial planning ad implementation review review financial management control financial documentation management quality financial management management communication review quality network'\n 'fund review financial management manufacturing financial financial technology sell-side financial management'\n ...\n 'design safe design technical customer cross-functional collaborative quality driving architecture design safety control'\n 'software developer planning planning coordinating software communication planning lead'\n 'traction battery software software traction battery management battery battery battery safe diagnostics battery battery communication safety safety software developer safety safety implementation design software traction engineering safety architecture quality communication'].\nReshape your data either using array.reshape(-1, 1) if your data has a single feature or array.reshape(1, -1) if it contains a single sample."
     ]
    }
   ],
   "source": [
    "# One Hot\n",
    "vectorizer = OneHotEncoder()\n",
    "vec_data = vectorizer.fit_transform(clean_resume+clean_assignment)"
   ]
  },
  {
   "cell_type": "code",
   "execution_count": null,
   "metadata": {},
   "outputs": [],
   "source": []
  }
 ]
}