{
 "metadata": {
  "language_info": {
   "codemirror_mode": {
    "name": "ipython",
    "version": 3
   },
   "file_extension": ".py",
   "mimetype": "text/x-python",
   "name": "python",
   "nbconvert_exporter": "python",
   "pygments_lexer": "ipython3",
   "version": "3.9.2"
  },
  "orig_nbformat": 2,
  "kernelspec": {
   "name": "python392jvsc74a57bd0ec49377734e452f7232cd190f0d9cf7bf2c279fdb44b8c7a9fbd8a2977087685",
   "display_name": "Python 3.9.2 64-bit ('flair': conda)"
  },
  "metadata": {
   "interpreter": {
    "hash": "ec49377734e452f7232cd190f0d9cf7bf2c279fdb44b8c7a9fbd8a2977087685"
   }
  }
 },
 "nbformat": 4,
 "nbformat_minor": 2,
 "cells": [
  {
   "cell_type": "code",
   "execution_count": 8,
   "metadata": {},
   "outputs": [
    {
     "output_type": "stream",
     "name": "stdout",
     "text": [
      "Requirement already satisfied: spacy in /home/londogard/miniconda3/envs/flair/lib/python3.9/site-packages (3.0.6)\n",
      "Requirement already satisfied: requests<3.0.0,>=2.13.0 in /home/londogard/miniconda3/envs/flair/lib/python3.9/site-packages (from spacy) (2.25.1)\n",
      "Requirement already satisfied: srsly<3.0.0,>=2.4.1 in /home/londogard/miniconda3/envs/flair/lib/python3.9/site-packages (from spacy) (2.4.1)\n",
      "Requirement already satisfied: jinja2 in /home/londogard/miniconda3/envs/flair/lib/python3.9/site-packages (from spacy) (2.11.3)\n",
      "Requirement already satisfied: catalogue<2.1.0,>=2.0.3 in /home/londogard/miniconda3/envs/flair/lib/python3.9/site-packages (from spacy) (2.0.4)\n",
      "Requirement already satisfied: cymem<2.1.0,>=2.0.2 in /home/londogard/miniconda3/envs/flair/lib/python3.9/site-packages (from spacy) (2.0.5)\n",
      "Requirement already satisfied: thinc<8.1.0,>=8.0.3 in /home/londogard/miniconda3/envs/flair/lib/python3.9/site-packages (from spacy) (8.0.3)\n",
      "Requirement already satisfied: packaging>=20.0 in /home/londogard/miniconda3/envs/flair/lib/python3.9/site-packages (from spacy) (20.9)\n",
      "Requirement already satisfied: wasabi<1.1.0,>=0.8.1 in /home/londogard/miniconda3/envs/flair/lib/python3.9/site-packages (from spacy) (0.8.2)\n",
      "Requirement already satisfied: setuptools in /home/londogard/miniconda3/envs/flair/lib/python3.9/site-packages (from spacy) (49.6.0.post20210108)\n",
      "Requirement already satisfied: blis<0.8.0,>=0.4.0 in /home/londogard/miniconda3/envs/flair/lib/python3.9/site-packages (from spacy) (0.7.4)\n",
      "Requirement already satisfied: typer<0.4.0,>=0.3.0 in /home/londogard/miniconda3/envs/flair/lib/python3.9/site-packages (from spacy) (0.3.2)\n",
      "Requirement already satisfied: tqdm<5.0.0,>=4.38.0 in /home/londogard/miniconda3/envs/flair/lib/python3.9/site-packages (from spacy) (4.59.0)\n",
      "Requirement already satisfied: preshed<3.1.0,>=3.0.2 in /home/londogard/miniconda3/envs/flair/lib/python3.9/site-packages (from spacy) (3.0.5)\n",
      "Requirement already satisfied: pydantic<1.8.0,>=1.7.1 in /home/londogard/miniconda3/envs/flair/lib/python3.9/site-packages (from spacy) (1.7.4)\n",
      "Requirement already satisfied: numpy>=1.15.0 in /home/londogard/miniconda3/envs/flair/lib/python3.9/site-packages (from spacy) (1.19.2)\n",
      "Requirement already satisfied: spacy-legacy<3.1.0,>=3.0.4 in /home/londogard/miniconda3/envs/flair/lib/python3.9/site-packages (from spacy) (3.0.5)\n",
      "Requirement already satisfied: murmurhash<1.1.0,>=0.28.0 in /home/londogard/miniconda3/envs/flair/lib/python3.9/site-packages (from spacy) (1.0.5)\n",
      "Requirement already satisfied: pathy>=0.3.5 in /home/londogard/miniconda3/envs/flair/lib/python3.9/site-packages (from spacy) (0.5.2)\n",
      "Requirement already satisfied: pyparsing>=2.0.2 in /home/londogard/miniconda3/envs/flair/lib/python3.9/site-packages (from packaging>=20.0->spacy) (2.4.7)\n",
      "Requirement already satisfied: smart-open<4.0.0,>=2.2.0 in /home/londogard/miniconda3/envs/flair/lib/python3.9/site-packages (from pathy>=0.3.5->spacy) (3.0.0)\n",
      "Requirement already satisfied: urllib3<1.27,>=1.21.1 in /home/londogard/miniconda3/envs/flair/lib/python3.9/site-packages (from requests<3.0.0,>=2.13.0->spacy) (1.26.4)\n",
      "Requirement already satisfied: chardet<5,>=3.0.2 in /home/londogard/miniconda3/envs/flair/lib/python3.9/site-packages (from requests<3.0.0,>=2.13.0->spacy) (4.0.0)\n",
      "Requirement already satisfied: certifi>=2017.4.17 in /home/londogard/miniconda3/envs/flair/lib/python3.9/site-packages (from requests<3.0.0,>=2.13.0->spacy) (2020.12.5)\n",
      "Requirement already satisfied: idna<3,>=2.5 in /home/londogard/miniconda3/envs/flair/lib/python3.9/site-packages (from requests<3.0.0,>=2.13.0->spacy) (2.10)\n",
      "Requirement already satisfied: click<7.2.0,>=7.1.1 in /home/londogard/miniconda3/envs/flair/lib/python3.9/site-packages (from typer<0.4.0,>=0.3.0->spacy) (7.1.2)\n",
      "Requirement already satisfied: MarkupSafe>=0.23 in /home/londogard/miniconda3/envs/flair/lib/python3.9/site-packages (from jinja2->spacy) (1.1.1)\n"
     ]
    }
   ],
   "source": [
    "!pip install spacy"
   ]
  },
  {
   "cell_type": "code",
   "execution_count": 6,
   "metadata": {},
   "outputs": [
    {
     "output_type": "error",
     "ename": "ModuleNotFoundError",
     "evalue": "No module named 'spacy_annotator'",
     "traceback": [
      "\u001b[0;31m---------------------------------------------------------------------------\u001b[0m",
      "\u001b[0;31mModuleNotFoundError\u001b[0m                       Traceback (most recent call last)",
      "\u001b[0;32m<ipython-input-6-9045dd199eed>\u001b[0m in \u001b[0;36m<module>\u001b[0;34m\u001b[0m\n\u001b[1;32m      1\u001b[0m \u001b[0;32mimport\u001b[0m \u001b[0mpandas\u001b[0m \u001b[0;32mas\u001b[0m \u001b[0mpd\u001b[0m\u001b[0;34m\u001b[0m\u001b[0;34m\u001b[0m\u001b[0m\n\u001b[0;32m----> 2\u001b[0;31m \u001b[0;32mimport\u001b[0m \u001b[0mspacy_annotator\u001b[0m \u001b[0;32mas\u001b[0m \u001b[0mspa\u001b[0m\u001b[0;34m\u001b[0m\u001b[0;34m\u001b[0m\u001b[0m\n\u001b[0m\u001b[1;32m      3\u001b[0m \u001b[0;32mimport\u001b[0m \u001b[0mspacy\u001b[0m\u001b[0;34m\u001b[0m\u001b[0;34m\u001b[0m\u001b[0m\n",
      "\u001b[0;31mModuleNotFoundError\u001b[0m: No module named 'spacy_annotator'"
     ]
    }
   ],
   "source": [
    "import pandas as pd\n",
    "import spacy_annotator as spa\n",
    "import spacy"
   ]
  },
  {
   "cell_type": "code",
   "execution_count": null,
   "metadata": {},
   "outputs": [],
   "source": []
  }
 ]
}